{
 "cells": [
  {
   "cell_type": "code",
   "execution_count": 1,
   "id": "90d07c50",
   "metadata": {
    "ExecuteTime": {
     "end_time": "2023-02-21T20:32:55.846897Z",
     "start_time": "2023-02-21T20:32:55.308952Z"
    }
   },
   "outputs": [],
   "source": [
    "import pandas as pd\n",
    "import requests"
   ]
  },
  {
   "cell_type": "markdown",
   "id": "f18768bf",
   "metadata": {},
   "source": [
    "Запустите api:\n",
    "\n",
    "uvicorn local_api:app --reload"
   ]
  },
  {
   "cell_type": "code",
   "execution_count": 2,
   "id": "1c5fa570",
   "metadata": {
    "ExecuteTime": {
     "end_time": "2023-02-21T20:33:01.223875Z",
     "start_time": "2023-02-21T20:32:55.848777Z"
    }
   },
   "outputs": [
    {
     "data": {
      "text/plain": [
       "(1860042, 18)"
      ]
     },
     "execution_count": 2,
     "metadata": {},
     "output_type": "execute_result"
    }
   ],
   "source": [
    "sess0 = pd.read_csv('data/ga_sessions.csv', low_memory=False)\n",
    "sess0.shape"
   ]
  },
  {
   "cell_type": "code",
   "execution_count": 3,
   "id": "be57d0c9",
   "metadata": {
    "ExecuteTime": {
     "end_time": "2023-02-21T20:33:01.244021Z",
     "start_time": "2023-02-21T20:33:01.225812Z"
    }
   },
   "outputs": [
    {
     "name": "stdout",
     "output_type": "stream",
     "text": [
      "200\n"
     ]
    },
    {
     "data": {
      "text/plain": [
       "'Active'"
      ]
     },
     "execution_count": 3,
     "metadata": {},
     "output_type": "execute_result"
    }
   ],
   "source": [
    "# get-запрос 'status':\n",
    "status = requests.get('http://127.0.0.1:8000/status')\n",
    "print(status.status_code)\n",
    "status.json()"
   ]
  },
  {
   "cell_type": "code",
   "execution_count": 4,
   "id": "4840f2bc",
   "metadata": {
    "ExecuteTime": {
     "end_time": "2023-02-21T20:33:01.253971Z",
     "start_time": "2023-02-21T20:33:01.246337Z"
    },
    "scrolled": true
   },
   "outputs": [
    {
     "name": "stdout",
     "output_type": "stream",
     "text": [
      "200\n"
     ]
    },
    {
     "data": {
      "text/plain": [
       "{'version': '1.3',\n",
       " 'model': 'MLPClassifier',\n",
       " 'ROC AUC': '0.7037',\n",
       " 'threshold': '0.03'}"
      ]
     },
     "execution_count": 4,
     "metadata": {},
     "output_type": "execute_result"
    }
   ],
   "source": [
    "# get-запрос 'version':\n",
    "ver = requests.get('http://127.0.0.1:8000/version')\n",
    "print(ver.status_code)\n",
    "ver.json()"
   ]
  },
  {
   "cell_type": "code",
   "execution_count": 5,
   "id": "9467706b",
   "metadata": {
    "ExecuteTime": {
     "end_time": "2023-02-21T20:33:01.359078Z",
     "start_time": "2023-02-21T20:33:01.255943Z"
    }
   },
   "outputs": [
    {
     "data": {
      "text/plain": [
       "{'session_id': '130084497920573006.1633114952.1633114952',\n",
       " 'client_id': '30287657.1633107534',\n",
       " 'visit_date': '2021-10-01',\n",
       " 'visit_time': '22:00:00',\n",
       " 'visit_number': 2,\n",
       " 'utm_source': 'BHcvLfOaCWvWTykYqHVe',\n",
       " 'utm_medium': 'cpc',\n",
       " 'utm_campaign': '(not set)',\n",
       " 'utm_adcontent': '(not set)',\n",
       " 'utm_keyword': '(not set)',\n",
       " 'device_category': 'mobile',\n",
       " 'device_os': '(not set)',\n",
       " 'device_brand': 'Apple',\n",
       " 'device_model': '(not set)',\n",
       " 'device_screen_resolution': '375x812',\n",
       " 'device_browser': 'Safari',\n",
       " 'geo_country': 'Russia',\n",
       " 'geo_city': 'Saint Petersburg'}"
      ]
     },
     "execution_count": 5,
     "metadata": {},
     "output_type": "execute_result"
    }
   ],
   "source": [
    "sample = sess0.sample(n=1)\n",
    "sample = sample.fillna('(not set)')\n",
    "i = sample.index[0]\n",
    "sample_dict = sample.to_dict('index')[i]\n",
    "sample_dict"
   ]
  },
  {
   "cell_type": "code",
   "execution_count": 6,
   "id": "252607c9",
   "metadata": {
    "ExecuteTime": {
     "end_time": "2023-02-21T20:33:01.393522Z",
     "start_time": "2023-02-21T20:33:01.361629Z"
    },
    "scrolled": true
   },
   "outputs": [
    {
     "data": {
      "text/plain": [
       "200"
      ]
     },
     "execution_count": 6,
     "metadata": {},
     "output_type": "execute_result"
    }
   ],
   "source": [
    "# post-запрос 'predict':\n",
    "resp = requests.post('http://127.0.0.1:8000/predict', json=sample_dict)\n",
    "resp.status_code"
   ]
  },
  {
   "cell_type": "code",
   "execution_count": 7,
   "id": "d1169dee",
   "metadata": {
    "ExecuteTime": {
     "end_time": "2023-02-21T20:33:01.399312Z",
     "start_time": "2023-02-21T20:33:01.395408Z"
    }
   },
   "outputs": [
    {
     "name": "stdout",
     "output_type": "stream",
     "text": [
      "predition: 0\n"
     ]
    }
   ],
   "source": [
    "# Выведем результат запроса 'predict'\n",
    "\n",
    "for k, v in resp.json().items():\n",
    "    print(f'{k}: {v}')"
   ]
  },
  {
   "cell_type": "code",
   "execution_count": null,
   "id": "1dc1be6c",
   "metadata": {},
   "outputs": [],
   "source": []
  }
 ],
 "metadata": {
  "kernelspec": {
   "display_name": "Python 3 (ipykernel)",
   "language": "python",
   "name": "python3"
  },
  "language_info": {
   "codemirror_mode": {
    "name": "ipython",
    "version": 3
   },
   "file_extension": ".py",
   "mimetype": "text/x-python",
   "name": "python",
   "nbconvert_exporter": "python",
   "pygments_lexer": "ipython3",
   "version": "3.10.6"
  }
 },
 "nbformat": 4,
 "nbformat_minor": 5
}
