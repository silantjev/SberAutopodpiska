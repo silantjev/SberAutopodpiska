{
 "cells": [
  {
   "cell_type": "code",
   "execution_count": 1,
   "id": "90d07c50",
   "metadata": {},
   "outputs": [],
   "source": [
    "import pandas as pd\n",
    "import requests"
   ]
  },
  {
   "cell_type": "markdown",
   "id": "f18768bf",
   "metadata": {},
   "source": [
    "Запустите api:\n",
    "\n",
    "uvicorn local_api:app --reload"
   ]
  },
  {
   "cell_type": "code",
   "execution_count": 2,
   "id": "1c5fa570",
   "metadata": {},
   "outputs": [
    {
     "data": {
      "text/plain": [
       "(1860042, 18)"
      ]
     },
     "execution_count": 2,
     "metadata": {},
     "output_type": "execute_result"
    }
   ],
   "source": [
    "sess0 = pd.read_csv('data/ga_sessions.csv', low_memory=False)\n",
    "sess0.shape"
   ]
  },
  {
   "cell_type": "code",
   "execution_count": 3,
   "id": "be57d0c9",
   "metadata": {},
   "outputs": [
    {
     "name": "stdout",
     "output_type": "stream",
     "text": [
      "200\n"
     ]
    },
    {
     "data": {
      "text/plain": [
       "'Active'"
      ]
     },
     "execution_count": 3,
     "metadata": {},
     "output_type": "execute_result"
    }
   ],
   "source": [
    "# get-запрос 'status':\n",
    "status = requests.get('http://127.0.0.1:8000/status')\n",
    "print(status.status_code)\n",
    "status.json()"
   ]
  },
  {
   "cell_type": "code",
   "execution_count": 10,
   "id": "4840f2bc",
   "metadata": {
    "scrolled": true
   },
   "outputs": [
    {
     "name": "stdout",
     "output_type": "stream",
     "text": [
      "200\n"
     ]
    },
    {
     "data": {
      "text/plain": [
       "{'version': '1.3',\n",
       " 'model': 'MLPClassifier',\n",
       " 'ROC AUC': '0.7037',\n",
       " 'threshold': '0.03'}"
      ]
     },
     "execution_count": 10,
     "metadata": {},
     "output_type": "execute_result"
    }
   ],
   "source": [
    "# get-запрос 'version':\n",
    "ver = requests.get('http://127.0.0.1:8000/version')\n",
    "print(ver.status_code)\n",
    "ver.json()"
   ]
  },
  {
   "cell_type": "code",
   "execution_count": 5,
   "id": "9467706b",
   "metadata": {},
   "outputs": [],
   "source": [
    "sample = sess0.sample(n=1)\n",
    "sample = sample.fillna('(not set)')\n",
    "i = sample.index[0]\n",
    "sample_dict = sample.to_dict('index')[i]"
   ]
  },
  {
   "cell_type": "code",
   "execution_count": 8,
   "id": "252607c9",
   "metadata": {
    "scrolled": true
   },
   "outputs": [
    {
     "data": {
      "text/plain": [
       "200"
      ]
     },
     "execution_count": 8,
     "metadata": {},
     "output_type": "execute_result"
    }
   ],
   "source": [
    "# post-запрос 'predict':\n",
    "resp = requests.post('http://127.0.0.1:8000/predict', json=sample_dict)\n",
    "resp.status_code"
   ]
  },
  {
   "cell_type": "code",
   "execution_count": 9,
   "id": "d1169dee",
   "metadata": {},
   "outputs": [
    {
     "name": "stdout",
     "output_type": "stream",
     "text": [
      "predition: 0\n"
     ]
    }
   ],
   "source": [
    "# Выведем результат запроса 'predict'\n",
    "\n",
    "for k, v in resp.json().items():\n",
    "    print(f'{k}: {v}')"
   ]
  },
  {
   "cell_type": "code",
   "execution_count": 108,
   "id": "6fe67321",
   "metadata": {},
   "outputs": [
    {
     "data": {
      "text/plain": [
       "{'session_id': '788902197304010325.1624548949.1624548949',\n",
       " 'client_id': '183680606.1624548949',\n",
       " 'visit_date': '2021-06-24',\n",
       " 'visit_time': '18:00:00',\n",
       " 'visit_number': 1,\n",
       " 'utm_source': 'fDLlAcSmythWSCVMvqvL',\n",
       " 'utm_medium': '(none)',\n",
       " 'utm_campaign': 'LTuZkdKfxRGVceoWkVyg',\n",
       " 'utm_adcontent': 'JNHcPlZPxEMWDnRiyoBf',\n",
       " 'utm_keyword': '(not set)',\n",
       " 'device_category': 'mobile',\n",
       " 'device_os': '(not set)',\n",
       " 'device_brand': 'Apple',\n",
       " 'device_model': '(not set)',\n",
       " 'device_screen_resolution': '375x812',\n",
       " 'device_browser': 'Safari',\n",
       " 'geo_country': 'Russia',\n",
       " 'geo_city': 'Moscow'}"
      ]
     },
     "execution_count": 108,
     "metadata": {},
     "output_type": "execute_result"
    }
   ],
   "source": [
    "sample_dict"
   ]
  },
  {
   "cell_type": "code",
   "execution_count": null,
   "id": "1dc1be6c",
   "metadata": {},
   "outputs": [],
   "source": []
  }
 ],
 "metadata": {
  "kernelspec": {
   "display_name": "Python 3 (ipykernel)",
   "language": "python",
   "name": "python3"
  },
  "language_info": {
   "codemirror_mode": {
    "name": "ipython",
    "version": 3
   },
   "file_extension": ".py",
   "mimetype": "text/x-python",
   "name": "python",
   "nbconvert_exporter": "python",
   "pygments_lexer": "ipython3",
   "version": "3.10.6"
  }
 },
 "nbformat": 4,
 "nbformat_minor": 5
}
