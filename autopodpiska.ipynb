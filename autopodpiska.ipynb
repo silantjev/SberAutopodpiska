{
 "cells": [
  {
   "cell_type": "markdown",
   "id": "a045c9e3",
   "metadata": {
    "heading_collapsed": true
   },
   "source": [
    "# 0. Постановка задачи"
   ]
  },
  {
   "cell_type": "markdown",
   "id": "97f00b9b",
   "metadata": {
    "hidden": true
   },
   "source": [
    "На сайт «СберАвтоподписка» заходят пользователи и совершают некоторые действия (или не совершают)."
   ]
  },
  {
   "cell_type": "markdown",
   "id": "81ea2e17",
   "metadata": {
    "hidden": true
   },
   "source": [
    "Имеются данные из Google Analytics (last-click attribution model) по сайту «СберАвтоподписка» в виде двух файлов `ga_sessions.csv` и `ga_hits.csv`."
   ]
  },
  {
   "cell_type": "markdown",
   "id": "97cb7ea4",
   "metadata": {
    "heading_collapsed": true,
    "hidden": true
   },
   "source": [
    "## Описание файла ga_sessions.csv."
   ]
  },
  {
   "cell_type": "markdown",
   "id": "6517765f",
   "metadata": {
    "hidden": true
   },
   "source": [
    "Одна строка = один визит на сайт.\n",
    "\n",
    "Описание атрибутов:\n",
    "\n",
    "`session_id` — ID визита;\n",
    "\n",
    "`client_id` — ID посетителя;\n",
    "\n",
    "`visit_date` — дата визита;\n",
    "\n",
    "`visit_time` — время визита;\n",
    "\n",
    "`visit_number` — порядковый номер визита клиента;\n",
    "\n",
    "`utm_source` — канал привлечения;\n",
    "\n",
    "`utm_medium` — тип привлечения;\n",
    "\n",
    "`utm_campaign` — рекламная кампания;\n",
    "\n",
    "`utm_keyword` — ключевое слово;\n",
    "\n",
    "`device_category` — тип устройства;\n",
    "\n",
    "`device_os` — ОС устройства;\n",
    "\n",
    "`device_brand` — марка устройства;\n",
    "\n",
    "`device_model` — модель устройства;\n",
    "\n",
    "`device_screen_resolution` — разрешение экрана;\n",
    "\n",
    "`device_brand` — марка устройства;\n",
    "\n",
    "`device_model` — модель устройства;\n",
    "\n",
    "`device_screen_resolution` — разрешение экрана;\n",
    "\n",
    "`device_browser` — браузер;\n",
    "\n",
    "`geo_country` — страна;\n",
    "\n",
    "`geo_city` — город."
   ]
  },
  {
   "cell_type": "markdown",
   "id": "0bfd6946",
   "metadata": {
    "hidden": true
   },
   "source": [
    "Входные данные для модели: utm_*, device_*, geo_*"
   ]
  },
  {
   "cell_type": "markdown",
   "id": "112afe69",
   "metadata": {
    "heading_collapsed": true,
    "hidden": true
   },
   "source": [
    "## Описание файла ga_hits.csv."
   ]
  },
  {
   "cell_type": "markdown",
   "id": "23f2a26c",
   "metadata": {
    "hidden": true
   },
   "source": [
    "Одна строка = одно событие в рамках одного визита на сайт.\n",
    "\n",
    "Описание атрибутов:\n",
    "\n",
    "`session_id` — ID визита;\n",
    "\n",
    "`hit_date` — дата события;\n",
    "\n",
    "`hit_time` — время события;\n",
    "\n",
    "`hit_number` — порядковый номер события в рамках сессии;\n",
    "\n",
    "`hit_type` — тип события;\n",
    "\n",
    "`hit_referer` — источник события;\n",
    "\n",
    "`hit_page_path` — страница события;\n",
    "\n",
    "`event_category` — тип действия;\n",
    "\n",
    "`event_action` — действие;\n",
    "\n",
    "`event_label` — тег действия;\n",
    "\n",
    "`event_value` — значение результата действия."
   ]
  },
  {
   "cell_type": "markdown",
   "id": "61b72a0c",
   "metadata": {
    "hidden": true
   },
   "source": [
    "Целевые значения `event_action`:\n",
    "\n",
    "'sub_car_claim_click', 'sub_car_claim_submit_click',\n",
    "'sub_open_dialog_click', 'sub_custom_question_submit_click',\n",
    "'sub_call_number_click', 'sub_callback_submit_click', 'sub_submit_success',\n",
    "'sub_car_request_submit_click'"
   ]
  },
  {
   "cell_type": "markdown",
   "id": "e7f1cac8",
   "metadata": {
    "hidden": true
   },
   "source": [
    "## Описание задачи"
   ]
  },
  {
   "cell_type": "markdown",
   "id": "998c355f",
   "metadata": {
    "hidden": true
   },
   "source": [
    "Требуется построить модель, которая по входным значениям будет угадывать, совершит ли пользователь с такими параметрами целевое действие при посещении сайта.\n",
    "\n",
    "Модель должна брать на вход все атрибуты, типа utm_*, device_*, geo_*, и отдавать на выход 0/1 (1 — если пользователь совершит любое целевое действие, 0 в противном случае)."
   ]
  },
  {
   "cell_type": "markdown",
   "id": "c42fecdb",
   "metadata": {
    "heading_collapsed": true
   },
   "source": [
    "# 1. Подготовка данных"
   ]
  },
  {
   "cell_type": "markdown",
   "id": "5b1c9174",
   "metadata": {
    "heading_collapsed": true,
    "hidden": true
   },
   "source": [
    "## Импорт библиотек"
   ]
  },
  {
   "cell_type": "code",
   "execution_count": 1,
   "id": "00b1174f",
   "metadata": {
    "hidden": true
   },
   "outputs": [],
   "source": [
    "import pandas as pd\n",
    "import numpy as np\n",
    "import re\n",
    "import matplotlib.pyplot as plt\n",
    "import math\n",
    "import datetime\n",
    "from sklearn.preprocessing import OneHotEncoder\n",
    "from sklearn.preprocessing import StandardScaler\n",
    "from sklearn.compose import ColumnTransformer\n",
    "from sklearn.compose import make_column_selector\n",
    "from sklearn.model_selection import train_test_split\n",
    "from sklearn.model_selection import GridSearchCV\n",
    "from sklearn.metrics import roc_auc_score\n",
    "from sklearn.metrics import roc_curve\n",
    "from sklearn.metrics import auc\n",
    "from sklearn.metrics import confusion_matrix\n",
    "from sklearn.linear_model import LogisticRegression\n",
    "from sklearn.linear_model import SGDClassifier\n",
    "from sklearn.neural_network import MLPClassifier"
   ]
  },
  {
   "cell_type": "markdown",
   "id": "acebbbc4",
   "metadata": {
    "heading_collapsed": true,
    "hidden": true
   },
   "source": [
    "## Загрузка данных"
   ]
  },
  {
   "cell_type": "code",
   "execution_count": 2,
   "id": "5a6193a1",
   "metadata": {
    "hidden": true
   },
   "outputs": [
    {
     "data": {
      "text/html": [
       "<div>\n",
       "<style scoped>\n",
       "    .dataframe tbody tr th:only-of-type {\n",
       "        vertical-align: middle;\n",
       "    }\n",
       "\n",
       "    .dataframe tbody tr th {\n",
       "        vertical-align: top;\n",
       "    }\n",
       "\n",
       "    .dataframe thead th {\n",
       "        text-align: right;\n",
       "    }\n",
       "</style>\n",
       "<table border=\"1\" class=\"dataframe\">\n",
       "  <thead>\n",
       "    <tr style=\"text-align: right;\">\n",
       "      <th></th>\n",
       "      <th>session_id</th>\n",
       "      <th>client_id</th>\n",
       "      <th>visit_date</th>\n",
       "      <th>visit_time</th>\n",
       "      <th>visit_number</th>\n",
       "      <th>utm_source</th>\n",
       "      <th>utm_medium</th>\n",
       "      <th>utm_campaign</th>\n",
       "      <th>utm_adcontent</th>\n",
       "      <th>utm_keyword</th>\n",
       "      <th>device_category</th>\n",
       "      <th>device_os</th>\n",
       "      <th>device_brand</th>\n",
       "      <th>device_model</th>\n",
       "      <th>device_screen_resolution</th>\n",
       "      <th>device_browser</th>\n",
       "      <th>geo_country</th>\n",
       "      <th>geo_city</th>\n",
       "    </tr>\n",
       "  </thead>\n",
       "  <tbody>\n",
       "    <tr>\n",
       "      <th>0</th>\n",
       "      <td>9055434745589932991.1637753792.1637753792</td>\n",
       "      <td>2108382700.1637753791</td>\n",
       "      <td>2021-11-24</td>\n",
       "      <td>14:36:32</td>\n",
       "      <td>1</td>\n",
       "      <td>ZpYIoDJMcFzVoPFsHGJL</td>\n",
       "      <td>banner</td>\n",
       "      <td>LEoPHuyFvzoNfnzGgfcd</td>\n",
       "      <td>vCIpmpaGBnIQhyYNkXqp</td>\n",
       "      <td>puhZPIYqKXeFPaUviSjo</td>\n",
       "      <td>mobile</td>\n",
       "      <td>Android</td>\n",
       "      <td>Huawei</td>\n",
       "      <td>NaN</td>\n",
       "      <td>360x720</td>\n",
       "      <td>Chrome</td>\n",
       "      <td>Russia</td>\n",
       "      <td>Zlatoust</td>\n",
       "    </tr>\n",
       "    <tr>\n",
       "      <th>1</th>\n",
       "      <td>905544597018549464.1636867290.1636867290</td>\n",
       "      <td>210838531.1636867288</td>\n",
       "      <td>2021-11-14</td>\n",
       "      <td>08:21:30</td>\n",
       "      <td>1</td>\n",
       "      <td>MvfHsxITijuriZxsqZqt</td>\n",
       "      <td>cpm</td>\n",
       "      <td>FTjNLDyTrXaWYgZymFkV</td>\n",
       "      <td>xhoenQgDQsgfEPYNPwKO</td>\n",
       "      <td>IGUCNvHlhfHpROGclCit</td>\n",
       "      <td>mobile</td>\n",
       "      <td>Android</td>\n",
       "      <td>Samsung</td>\n",
       "      <td>NaN</td>\n",
       "      <td>385x854</td>\n",
       "      <td>Samsung Internet</td>\n",
       "      <td>Russia</td>\n",
       "      <td>Moscow</td>\n",
       "    </tr>\n",
       "    <tr>\n",
       "      <th>2</th>\n",
       "      <td>9055446045651783499.1640648526.1640648526</td>\n",
       "      <td>2108385331.1640648523</td>\n",
       "      <td>2021-12-28</td>\n",
       "      <td>02:42:06</td>\n",
       "      <td>1</td>\n",
       "      <td>ZpYIoDJMcFzVoPFsHGJL</td>\n",
       "      <td>banner</td>\n",
       "      <td>LEoPHuyFvzoNfnzGgfcd</td>\n",
       "      <td>vCIpmpaGBnIQhyYNkXqp</td>\n",
       "      <td>puhZPIYqKXeFPaUviSjo</td>\n",
       "      <td>mobile</td>\n",
       "      <td>Android</td>\n",
       "      <td>Huawei</td>\n",
       "      <td>NaN</td>\n",
       "      <td>360x720</td>\n",
       "      <td>Chrome</td>\n",
       "      <td>Russia</td>\n",
       "      <td>Krasnoyarsk</td>\n",
       "    </tr>\n",
       "    <tr>\n",
       "      <th>3</th>\n",
       "      <td>9055447046360770272.1622255328.1622255328</td>\n",
       "      <td>2108385564.1622255328</td>\n",
       "      <td>2021-05-29</td>\n",
       "      <td>05:00:00</td>\n",
       "      <td>1</td>\n",
       "      <td>kjsLglQLzykiRbcDiGcD</td>\n",
       "      <td>cpc</td>\n",
       "      <td>NaN</td>\n",
       "      <td>NOBKLgtuvqYWkXQHeYWM</td>\n",
       "      <td>NaN</td>\n",
       "      <td>mobile</td>\n",
       "      <td>NaN</td>\n",
       "      <td>Xiaomi</td>\n",
       "      <td>NaN</td>\n",
       "      <td>393x786</td>\n",
       "      <td>Chrome</td>\n",
       "      <td>Russia</td>\n",
       "      <td>Moscow</td>\n",
       "    </tr>\n",
       "    <tr>\n",
       "      <th>4</th>\n",
       "      <td>9055447046360770272.1622255345.1622255345</td>\n",
       "      <td>2108385564.1622255328</td>\n",
       "      <td>2021-05-29</td>\n",
       "      <td>05:00:00</td>\n",
       "      <td>2</td>\n",
       "      <td>kjsLglQLzykiRbcDiGcD</td>\n",
       "      <td>cpc</td>\n",
       "      <td>NaN</td>\n",
       "      <td>NaN</td>\n",
       "      <td>NaN</td>\n",
       "      <td>mobile</td>\n",
       "      <td>NaN</td>\n",
       "      <td>Xiaomi</td>\n",
       "      <td>NaN</td>\n",
       "      <td>393x786</td>\n",
       "      <td>Chrome</td>\n",
       "      <td>Russia</td>\n",
       "      <td>Moscow</td>\n",
       "    </tr>\n",
       "  </tbody>\n",
       "</table>\n",
       "</div>"
      ],
      "text/plain": [
       "                                  session_id              client_id  \\\n",
       "0  9055434745589932991.1637753792.1637753792  2108382700.1637753791   \n",
       "1   905544597018549464.1636867290.1636867290   210838531.1636867288   \n",
       "2  9055446045651783499.1640648526.1640648526  2108385331.1640648523   \n",
       "3  9055447046360770272.1622255328.1622255328  2108385564.1622255328   \n",
       "4  9055447046360770272.1622255345.1622255345  2108385564.1622255328   \n",
       "\n",
       "   visit_date visit_time  visit_number            utm_source utm_medium  \\\n",
       "0  2021-11-24   14:36:32             1  ZpYIoDJMcFzVoPFsHGJL     banner   \n",
       "1  2021-11-14   08:21:30             1  MvfHsxITijuriZxsqZqt        cpm   \n",
       "2  2021-12-28   02:42:06             1  ZpYIoDJMcFzVoPFsHGJL     banner   \n",
       "3  2021-05-29   05:00:00             1  kjsLglQLzykiRbcDiGcD        cpc   \n",
       "4  2021-05-29   05:00:00             2  kjsLglQLzykiRbcDiGcD        cpc   \n",
       "\n",
       "           utm_campaign         utm_adcontent           utm_keyword  \\\n",
       "0  LEoPHuyFvzoNfnzGgfcd  vCIpmpaGBnIQhyYNkXqp  puhZPIYqKXeFPaUviSjo   \n",
       "1  FTjNLDyTrXaWYgZymFkV  xhoenQgDQsgfEPYNPwKO  IGUCNvHlhfHpROGclCit   \n",
       "2  LEoPHuyFvzoNfnzGgfcd  vCIpmpaGBnIQhyYNkXqp  puhZPIYqKXeFPaUviSjo   \n",
       "3                   NaN  NOBKLgtuvqYWkXQHeYWM                   NaN   \n",
       "4                   NaN                   NaN                   NaN   \n",
       "\n",
       "  device_category device_os device_brand device_model  \\\n",
       "0          mobile   Android       Huawei          NaN   \n",
       "1          mobile   Android      Samsung          NaN   \n",
       "2          mobile   Android       Huawei          NaN   \n",
       "3          mobile       NaN       Xiaomi          NaN   \n",
       "4          mobile       NaN       Xiaomi          NaN   \n",
       "\n",
       "  device_screen_resolution    device_browser geo_country     geo_city  \n",
       "0                  360x720            Chrome      Russia     Zlatoust  \n",
       "1                  385x854  Samsung Internet      Russia       Moscow  \n",
       "2                  360x720            Chrome      Russia  Krasnoyarsk  \n",
       "3                  393x786            Chrome      Russia       Moscow  \n",
       "4                  393x786            Chrome      Russia       Moscow  "
      ]
     },
     "execution_count": 2,
     "metadata": {},
     "output_type": "execute_result"
    }
   ],
   "source": [
    "sess0 = pd.read_csv('data/ga_sessions.csv', low_memory=False)\n",
    "sess0.head()"
   ]
  },
  {
   "cell_type": "code",
   "execution_count": 3,
   "id": "35a8c765",
   "metadata": {
    "hidden": true
   },
   "outputs": [
    {
     "data": {
      "text/html": [
       "<div>\n",
       "<style scoped>\n",
       "    .dataframe tbody tr th:only-of-type {\n",
       "        vertical-align: middle;\n",
       "    }\n",
       "\n",
       "    .dataframe tbody tr th {\n",
       "        vertical-align: top;\n",
       "    }\n",
       "\n",
       "    .dataframe thead th {\n",
       "        text-align: right;\n",
       "    }\n",
       "</style>\n",
       "<table border=\"1\" class=\"dataframe\">\n",
       "  <thead>\n",
       "    <tr style=\"text-align: right;\">\n",
       "      <th></th>\n",
       "      <th>session_id</th>\n",
       "      <th>hit_date</th>\n",
       "      <th>hit_time</th>\n",
       "      <th>hit_number</th>\n",
       "      <th>hit_type</th>\n",
       "      <th>hit_referer</th>\n",
       "      <th>hit_page_path</th>\n",
       "      <th>event_category</th>\n",
       "      <th>event_action</th>\n",
       "      <th>event_label</th>\n",
       "      <th>event_value</th>\n",
       "    </tr>\n",
       "  </thead>\n",
       "  <tbody>\n",
       "    <tr>\n",
       "      <th>0</th>\n",
       "      <td>5639623078712724064.1640254056.1640254056</td>\n",
       "      <td>2021-12-23</td>\n",
       "      <td>597864.0</td>\n",
       "      <td>30</td>\n",
       "      <td>event</td>\n",
       "      <td>NaN</td>\n",
       "      <td>sberauto.com/cars?utm_source_initial=google&amp;ut...</td>\n",
       "      <td>quiz</td>\n",
       "      <td>quiz_show</td>\n",
       "      <td>NaN</td>\n",
       "      <td>NaN</td>\n",
       "    </tr>\n",
       "    <tr>\n",
       "      <th>1</th>\n",
       "      <td>7750352294969115059.1640271109.1640271109</td>\n",
       "      <td>2021-12-23</td>\n",
       "      <td>597331.0</td>\n",
       "      <td>41</td>\n",
       "      <td>event</td>\n",
       "      <td>NaN</td>\n",
       "      <td>sberauto.com/cars/fiat?city=1&amp;city=18&amp;rental_c...</td>\n",
       "      <td>quiz</td>\n",
       "      <td>quiz_show</td>\n",
       "      <td>NaN</td>\n",
       "      <td>NaN</td>\n",
       "    </tr>\n",
       "    <tr>\n",
       "      <th>2</th>\n",
       "      <td>885342191847998240.1640235807.1640235807</td>\n",
       "      <td>2021-12-23</td>\n",
       "      <td>796252.0</td>\n",
       "      <td>49</td>\n",
       "      <td>event</td>\n",
       "      <td>NaN</td>\n",
       "      <td>sberauto.com/cars/all/volkswagen/polo/e994838f...</td>\n",
       "      <td>quiz</td>\n",
       "      <td>quiz_show</td>\n",
       "      <td>NaN</td>\n",
       "      <td>NaN</td>\n",
       "    </tr>\n",
       "    <tr>\n",
       "      <th>3</th>\n",
       "      <td>142526202120934167.1640211014.1640211014</td>\n",
       "      <td>2021-12-23</td>\n",
       "      <td>934292.0</td>\n",
       "      <td>46</td>\n",
       "      <td>event</td>\n",
       "      <td>NaN</td>\n",
       "      <td>sberauto.com/cars?utm_source_initial=yandex&amp;ut...</td>\n",
       "      <td>quiz</td>\n",
       "      <td>quiz_show</td>\n",
       "      <td>NaN</td>\n",
       "      <td>NaN</td>\n",
       "    </tr>\n",
       "    <tr>\n",
       "      <th>4</th>\n",
       "      <td>3450086108837475701.1640265078.1640265078</td>\n",
       "      <td>2021-12-23</td>\n",
       "      <td>768741.0</td>\n",
       "      <td>79</td>\n",
       "      <td>event</td>\n",
       "      <td>NaN</td>\n",
       "      <td>sberauto.com/cars/all/mercedes-benz/cla-klasse...</td>\n",
       "      <td>quiz</td>\n",
       "      <td>quiz_show</td>\n",
       "      <td>NaN</td>\n",
       "      <td>NaN</td>\n",
       "    </tr>\n",
       "  </tbody>\n",
       "</table>\n",
       "</div>"
      ],
      "text/plain": [
       "                                  session_id    hit_date  hit_time  \\\n",
       "0  5639623078712724064.1640254056.1640254056  2021-12-23  597864.0   \n",
       "1  7750352294969115059.1640271109.1640271109  2021-12-23  597331.0   \n",
       "2   885342191847998240.1640235807.1640235807  2021-12-23  796252.0   \n",
       "3   142526202120934167.1640211014.1640211014  2021-12-23  934292.0   \n",
       "4  3450086108837475701.1640265078.1640265078  2021-12-23  768741.0   \n",
       "\n",
       "   hit_number hit_type hit_referer  \\\n",
       "0          30    event         NaN   \n",
       "1          41    event         NaN   \n",
       "2          49    event         NaN   \n",
       "3          46    event         NaN   \n",
       "4          79    event         NaN   \n",
       "\n",
       "                                       hit_page_path event_category  \\\n",
       "0  sberauto.com/cars?utm_source_initial=google&ut...           quiz   \n",
       "1  sberauto.com/cars/fiat?city=1&city=18&rental_c...           quiz   \n",
       "2  sberauto.com/cars/all/volkswagen/polo/e994838f...           quiz   \n",
       "3  sberauto.com/cars?utm_source_initial=yandex&ut...           quiz   \n",
       "4  sberauto.com/cars/all/mercedes-benz/cla-klasse...           quiz   \n",
       "\n",
       "  event_action event_label  event_value  \n",
       "0    quiz_show         NaN          NaN  \n",
       "1    quiz_show         NaN          NaN  \n",
       "2    quiz_show         NaN          NaN  \n",
       "3    quiz_show         NaN          NaN  \n",
       "4    quiz_show         NaN          NaN  "
      ]
     },
     "execution_count": 3,
     "metadata": {},
     "output_type": "execute_result"
    }
   ],
   "source": [
    "hits0 = pd.read_csv('data/ga_hits.csv')\n",
    "hits0.head()"
   ]
  },
  {
   "cell_type": "code",
   "execution_count": 4,
   "id": "80d0ef5f",
   "metadata": {
    "hidden": true
   },
   "outputs": [
    {
     "name": "stdout",
     "output_type": "stream",
     "text": [
      "Размер датафрейма \"sessions\": (1860042, 18)\n",
      "Размер датафрейма \"hits\": (15726470, 11)\n"
     ]
    }
   ],
   "source": [
    "print('Размер датафрейма \"sessions\":', sess0.shape)\n",
    "print('Размер датафрейма \"hits\":', hits0.shape)"
   ]
  },
  {
   "cell_type": "markdown",
   "id": "b568bafe",
   "metadata": {
    "heading_collapsed": true,
    "hidden": true
   },
   "source": [
    "## Предварительный просмотр"
   ]
  },
  {
   "cell_type": "code",
   "execution_count": 5,
   "id": "da0cf9e1",
   "metadata": {
    "hidden": true,
    "scrolled": true
   },
   "outputs": [
    {
     "name": "stdout",
     "output_type": "stream",
     "text": [
      "\tsession_id (object — 1860042).\n",
      "\n",
      "\tclient_id (object — 1391719).\n",
      "\n",
      "\tvisit_date (object — 226):\n",
      "2021-05-24    39453\n",
      "2021-12-21    30704\n",
      "2021-05-25    19305\n",
      "2021-06-29    17367\n",
      "2021-09-14    16204\n",
      "              ...  \n",
      "2021-06-05     2102\n",
      "2021-05-23     1246\n",
      "2021-05-21     1110\n",
      "2021-05-22      986\n",
      "2021-05-19      877\n",
      "Name: visit_date, Length: 226, dtype: int64.\n",
      "\n",
      "\tvisit_time (object — 85318).\n",
      "\n",
      "\tvisit_number (int64 — 537):\n",
      "1      1376349\n",
      "2       235656\n",
      "3        81068\n",
      "4        41666\n",
      "5        24271\n",
      "        ...   \n",
      "419          1\n",
      "420          1\n",
      "421          1\n",
      "422          1\n",
      "564          1\n",
      "Name: visit_number, Length: 537, dtype: int64.\n",
      "\n",
      "\tutm_source (object — 293):\n",
      "ZpYIoDJMcFzVoPFsHGJL    578290\n",
      "fDLlAcSmythWSCVMvqvL    300575\n",
      "kjsLglQLzykiRbcDiGcD    266354\n",
      "MvfHsxITijuriZxsqZqt    186199\n",
      "BHcvLfOaCWvWTykYqHVe    116320\n",
      "                         ...  \n",
      "GYkgJdhSxirUFPHFiYSe         1\n",
      "WRHPhoRKhKxaenRCLBfo         1\n",
      "tjKUGseGMhkLEzdCqBRx         1\n",
      "wpmatvDuiMutnvmNVPJo         1\n",
      "BellrslNBZQZaIxVFGXJ         1\n",
      "Name: utm_source, Length: 293, dtype: int64.\n",
      "\n",
      "\tutm_medium (object — 56):\n",
      "banner               552272\n",
      "cpc                  434794\n",
      "(none)               300575\n",
      "cpm                  242083\n",
      "referral             152050\n",
      "organic               63034\n",
      "email                 29240\n",
      "push                  28035\n",
      "stories               10582\n",
      "cpv                    8022\n",
      "blogger_channel        8015\n",
      "smartbanner            6794\n",
      "blogger_stories        4312\n",
      "cpa                    4279\n",
      "tg                     4011\n",
      "app                    2836\n",
      "post                   2326\n",
      "smm                    1985\n",
      "outlook                1332\n",
      "clicks                  934\n",
      "blogger_header          771\n",
      "(not set)               480\n",
      "info_text               343\n",
      "sms                     239\n",
      "landing                 134\n",
      "partner                  97\n",
      "fb_smm                   66\n",
      "vk_smm                   65\n",
      "link                     57\n",
      "cbaafe                   47\n",
      "CPM                      40\n",
      "yandex_cpc               36\n",
      "ok_smm                   28\n",
      "static                   22\n",
      "google_cpc               20\n",
      "article                  17\n",
      "nkp                      14\n",
      "web_polka                11\n",
      "social                    9\n",
      "medium                    8\n",
      "main_polka                4\n",
      "catalogue                 4\n",
      "users_msk                 3\n",
      "reach                     2\n",
      "promo_sber                2\n",
      "linktest                  2\n",
      "promo_sbol                1\n",
      "Sbol_catalog              1\n",
      "desktop                   1\n",
      "dom_click                 1\n",
      "tablet                    1\n",
      "sber_app                  1\n",
      "last                      1\n",
      "qr                        1\n",
      "qrcodevideo               1\n",
      "landing_interests         1\n",
      "Name: utm_medium, dtype: int64.\n",
      "\n",
      "\tutm_campaign (object — 412):\n",
      "LTuZkdKfxRGVceoWkVyg    463481\n",
      "LEoPHuyFvzoNfnzGgfcd    324044\n",
      "FTjNLDyTrXaWYgZymFkV    247360\n",
      "gecBYcKZCPMcVYdSSzKP    134042\n",
      "TmThBvoCcwkCZZUWACYq     26597\n",
      "                         ...  \n",
      "cqgnjDbqrtCipVvzhxqa         1\n",
      "AdtHYglxfCpTpwZeTAuW         1\n",
      "pcvPxfVFaAmhwFmvIeYd         1\n",
      "qPDTdivQVeflLjTYIJnG         1\n",
      "cXxuwXPoQCvAXPHpFcZl         1\n",
      "Name: utm_campaign, Length: 412, dtype: int64.\n",
      "\n",
      "\tutm_adcontent (object — 286):\n",
      "JNHcPlZPxEMWDnRiyoBf    1006599\n",
      "vCIpmpaGBnIQhyYNkXqp     181048\n",
      "xhoenQgDQsgfEPYNPwKO     113072\n",
      "PkybGvWbaqORmxjNunqZ      60316\n",
      "LLfCasrxQzJIyuldcuWy      24222\n",
      "                         ...   \n",
      "ryswqHdLvbezpDLjokYF          1\n",
      "gQEnaeQmOHisHSTEyzhp          1\n",
      "PlanrlymnpCeYvUrUTVJ          1\n",
      "WbXQsVOKLOcJrHikuQTZ          1\n",
      "oJivRDNIrrOckRBIKOtG          1\n",
      "Name: utm_adcontent, Length: 286, dtype: int64.\n",
      "\n",
      "\tutm_keyword (object — 1219):\n",
      "puhZPIYqKXeFPaUviSjo    506819\n",
      "aXQzDWsJuGXeBXexNHjc     24241\n",
      "pHqgLcdBQPSLcrTpLkdr     13767\n",
      "ITfrGJNwVsHBGJMAKoct     13353\n",
      "hAmNSZmQkKQKAjZEGlgb     11297\n",
      "                         ...  \n",
      "XsuVVTgiDIxZtndPjvDm         1\n",
      "WhaUakldaAmpLumfaADO         1\n",
      "nJVPLgfxsBtPAXttNVDI         1\n",
      "nwKBdMZKktIQFvhZwbFe         1\n",
      "fcXWTQaKfxbkBkBnzLhK         1\n",
      "Name: utm_keyword, Length: 1219, dtype: int64.\n",
      "\n",
      "\tdevice_category (object — 3):\n",
      "mobile     1474871\n",
      "desktop     366863\n",
      "tablet       18308\n",
      "Name: device_category, dtype: int64.\n",
      "\n",
      "\tdevice_os (object — 13):\n",
      "Android          464054\n",
      "iOS              207104\n",
      "Windows           88307\n",
      "Macintosh         24824\n",
      "Linux              5120\n",
      "(not set)           364\n",
      "Chrome OS            83\n",
      "BlackBerry           27\n",
      "Tizen                 7\n",
      "Samsung               4\n",
      "Windows Phone         4\n",
      "Firefox OS            3\n",
      "Nokia                 3\n",
      "Name: device_os, dtype: int64.\n",
      "\n",
      "\tdevice_brand (object — 205):\n",
      "Apple       551088\n",
      "Samsung     332194\n",
      "Xiaomi      288367\n",
      "Huawei      185853\n",
      "Realme       19058\n",
      "             ...  \n",
      "Vodafone         1\n",
      "Wexler           1\n",
      "KingSing         1\n",
      "Star             1\n",
      "Opera            1\n",
      "Name: device_brand, Length: 205, dtype: int64.\n",
      "\n",
      "\tdevice_model (object — 104):\n",
      "AuMdmADEIoPXiWpTsBEj    9778\n",
      "tWBQlsvNfHxRUjaPAfhd     653\n",
      "cwMJxNXiWUgMUxGiCTPs     651\n",
      "pTgAEPipQxDXCjPrJbHo     461\n",
      "FJApgTrMAGHoxCxQVKws     372\n",
      "                        ... \n",
      "foPJGhraIZhogREKtYLR       1\n",
      "qmRODeCJLlmkmwxNYXvp       1\n",
      "MBGYWAQSYWUphNxTsAWD       1\n",
      "aWSBcBZlKorTFjJGlWKG       1\n",
      "VDidzTqFGxuqiRQJGrwB       1\n",
      "Name: device_model, Length: 104, dtype: int64.\n",
      "\n",
      "\tdevice_screen_resolution (object — 5039).\n",
      "\n",
      "\tdevice_browser (object — 57):\n",
      "Chrome                              1013436\n",
      "Safari                               478562\n",
      "YaBrowser                            133311\n",
      "Safari (in-app)                       69912\n",
      "Android Webview                       55369\n",
      "Samsung Internet                      47309\n",
      "Opera                                 26817\n",
      "Firefox                               16588\n",
      "Edge                                  16065\n",
      "UC Browser                              871\n",
      "Android Runtime                         392\n",
      "Mozilla Compatible Agent                362\n",
      "[FBAN                                   269\n",
      "Instagram 208.0.0.32.135 Android        140\n",
      "Instagram 209.0.0.21.119 Android        111\n",
      "MRCHROME                                 77\n",
      "Android Browser                          49\n",
      "Opera Mini                               45\n",
      "Puffin                                   45\n",
      "Internet Explorer                        36\n",
      "Maxthon                                  31\n",
      "Android                                  22\n",
      "Instagram 216.1.0.21.137 Android         19\n",
      "Mozilla                                  17\n",
      "(not set)                                17\n",
      "Instagram 216.0.0.12.135                 17\n",
      "Instagram 202.0.0.23.119                 17\n",
      "Instagram 194.0.0.36.172 Android         15\n",
      "Instagram 207.0.0.28.118                 14\n",
      "Instagram 202.0.0.37.123 Android         12\n",
      "com.vk.vkclient                           8\n",
      "Instagram 192.0.0.37.119                  7\n",
      "Amazon Silk                               7\n",
      "helloworld                                6\n",
      "Coc Coc                                   6\n",
      "Instagram 213.0.0.19.117                  6\n",
      "Instagram 203.0.0.26.117                  6\n",
      "Instagram 212.0.0.38.119 Android          6\n",
      "Instagram 201.0.0.23.111                  5\n",
      "Instagram 213.0.0.29.120 Android          5\n",
      "Instagram 208.0.0.26.131                  5\n",
      "SeaMonkey                                 4\n",
      "Instagram 192.0.0.35.123 Android          3\n",
      "Instagram 158.0.0.30.123 Android          3\n",
      "MyApp                                     2\n",
      "Iron                                      2\n",
      "Instagram 199.0.0.27.120                  2\n",
      "NetFront                                  2\n",
      "Instagram 199.1.0.34.119 Android          2\n",
      "com.zhiliaoapp.musically                  1\n",
      "Konqueror                                 1\n",
      "NokiaX2-02                                1\n",
      "Phantom Browser                           1\n",
      "Instagram 206.1.0.34.121 Android          1\n",
      "Nokia501                                  1\n",
      "MT6735_TD                                 1\n",
      "Threads 202.0.0.23.119                    1\n",
      "Name: device_browser, dtype: int64.\n",
      "\n",
      "\tgeo_country (object — 166):\n",
      "Russia                 1800565\n",
      "United States            11784\n",
      "Ukraine                   9012\n",
      "Ireland                   4034\n",
      "Belarus                   3636\n",
      "                        ...   \n",
      "Zambia                       1\n",
      "Malawi                       1\n",
      "Réunion                      1\n",
      "Barbados                     1\n",
      "Congo - Brazzaville          1\n",
      "Name: geo_country, Length: 166, dtype: int64.\n",
      "\n",
      "\tgeo_city (object — 2548):\n",
      "Moscow              805329\n",
      "Saint Petersburg    296788\n",
      "(not set)            78172\n",
      "Yekaterinburg        35788\n",
      "Krasnodar            32243\n",
      "                     ...  \n",
      "Sherbrooke               1\n",
      "Albion                   1\n",
      "Bornheim                 1\n",
      "Huntley                  1\n",
      "Sommerda                 1\n",
      "Name: geo_city, Length: 2548, dtype: int64.\n",
      "\n"
     ]
    }
   ],
   "source": [
    "for col in sess0.columns:\n",
    "    print(f'\\t{col} ({sess0[col].dtype} \\u2014 {len(sess0[col].value_counts())})', end='')\n",
    "    if len(sess0[col].value_counts()) < 5000:\n",
    "        print(':\\n', sess0[col].value_counts(), '.\\n', sep='')\n",
    "    else:\n",
    "        print('.\\n')"
   ]
  },
  {
   "cell_type": "code",
   "execution_count": 6,
   "id": "5f484a73",
   "metadata": {
    "hidden": true,
    "scrolled": true
   },
   "outputs": [
    {
     "name": "stdout",
     "output_type": "stream",
     "text": [
      "\tsession_id (object — 1734610).\n",
      "\n",
      "\thit_date (object — 226):\n",
      "2021-05-24    513035\n",
      "2021-12-21    280192\n",
      "2021-05-25    235805\n",
      "2021-09-23    168899\n",
      "2021-05-26    158382\n",
      "               ...  \n",
      "2021-07-24     23490\n",
      "2021-05-23     18773\n",
      "2021-05-19     14605\n",
      "2021-05-22     13917\n",
      "2021-05-21     13497\n",
      "Name: hit_date, Length: 226, dtype: int64.\n",
      "\n",
      "\thit_time (float64 — 925887).\n",
      "\n",
      "\thit_number (int64 — 500):\n",
      "3      1097355\n",
      "4       928038\n",
      "7       667634\n",
      "8       572076\n",
      "9       548347\n",
      "        ...   \n",
      "479         43\n",
      "497         43\n",
      "462         41\n",
      "494         41\n",
      "486         41\n",
      "Name: hit_number, Length: 500, dtype: int64.\n",
      "\n",
      "\thit_type (object — 1):\n",
      "event    15726470\n",
      "Name: hit_type, dtype: int64.\n",
      "\n",
      "\thit_referer (object — 37873).\n",
      "\n",
      "\thit_page_path (object — 342715).\n",
      "\n",
      "\tevent_category (object — 52):\n",
      "card_web                         7456998\n",
      "search_form                      2423605\n",
      "sub_page_view                    1986074\n",
      "sub_button_click                 1073471\n",
      "listing_ads                      1040468\n",
      "cars                              358915\n",
      "sap_search_form                   356596\n",
      "quiz                              263134\n",
      "auth                              189373\n",
      "sap_search__form                  188129\n",
      "jivosite                           88443\n",
      "chat                               85007\n",
      "ad_banner                          40441\n",
      "offers                             31218\n",
      "navigation                         27075\n",
      "footer                             20297\n",
      "sub_submit                         18495\n",
      "greenday_sub_button_click          15425\n",
      "main_banners                       14142\n",
      "profile_menu                       13879\n",
      "scrolling_main_page                12160\n",
      "active_invitation                   8478\n",
      "header                              3531\n",
      "my_idea                             2319\n",
      "greenday_listing_ads                1792\n",
      "main_services                       1464\n",
      "phone                               1212\n",
      "category_tile                        924\n",
      "greenday_gtm.triggergroup            766\n",
      "add_ad                               749\n",
      "greenday_sub_submit                  732\n",
      "credit_landing_pos                   274\n",
      "add_ad_additional_information        122\n",
      "main_advantages                      100\n",
      "add_ad_vin                            88\n",
      "pos_landing                           67\n",
      "add_ad_publish_success                65\n",
      "add_ad_options                        62\n",
      "add_ad_city                           59\n",
      "add_ad_photo                          55\n",
      "add_ad_price                          53\n",
      "add_ad_preview                        49\n",
      "add_ad_description                    48\n",
      "add_ad_documents                      46\n",
      "credit_buttons                        27\n",
      "wallet                                15\n",
      "tesla                                 10\n",
      "greenday_sub_page_view                 7\n",
      "add_ad_form                            4\n",
      "greenday_card_web                      4\n",
      "app_banner                             2\n",
      "titul_form                             1\n",
      "Name: event_category, dtype: int64.\n",
      "\n",
      "\tevent_action (object — 230):\n",
      "view_card                     3558985\n",
      "view_new_card                 3551009\n",
      "sub_landing                   1798117\n",
      "go_to_car_card                 973666\n",
      "sub_view_cars_click            791515\n",
      "                               ...   \n",
      "click_on_android                    1\n",
      "new_year_road_help_btn              1\n",
      "titul_page_view                     1\n",
      "show_pos_status_declined            1\n",
      "survey_buy_after_sell_when          1\n",
      "Name: event_action, Length: 230, dtype: int64.\n",
      "\n",
      "\tevent_label (object — 39825).\n",
      "\n",
      "\tevent_value (float64 — 0):\n",
      "Series([], Name: event_value, dtype: int64).\n",
      "\n"
     ]
    }
   ],
   "source": [
    "for col in hits0.columns:\n",
    "    print(f'\\t{col} ({hits0[col].dtype} \\u2014 {len(hits0[col].value_counts())})', end='')\n",
    "    if len(hits0[col].value_counts()) < 5000:\n",
    "        print(':\\n', hits0[col].value_counts(), '.\\n', sep='')\n",
    "    else:\n",
    "        print('.\\n')"
   ]
  },
  {
   "cell_type": "markdown",
   "id": "6b981169",
   "metadata": {
    "heading_collapsed": true,
    "hidden": true
   },
   "source": [
    "## Формирование датасета"
   ]
  },
  {
   "cell_type": "code",
   "execution_count": 7,
   "id": "aeaa4200",
   "metadata": {
    "hidden": true
   },
   "outputs": [],
   "source": [
    "# Целевые значения параметра 'event_action':\n",
    "target_events =['sub_car_claim_click', 'sub_car_claim_submit_click',\n",
    "'sub_open_dialog_click', 'sub_custom_question_submit_click',\n",
    "'sub_call_number_click', 'sub_callback_submit_click', 'sub_submit_success',\n",
    "'sub_car_request_submit_click']"
   ]
  },
  {
   "cell_type": "code",
   "execution_count": 8,
   "id": "938c1ade",
   "metadata": {
    "hidden": true
   },
   "outputs": [
    {
     "data": {
      "text/plain": [
       "False    15726470\n",
       "Name: event_action, dtype: int64"
      ]
     },
     "execution_count": 8,
     "metadata": {},
     "output_type": "execute_result"
    }
   ],
   "source": [
    "hits0['event_action'].isna().value_counts()"
   ]
  },
  {
   "cell_type": "markdown",
   "id": "a08ca384",
   "metadata": {
    "hidden": true
   },
   "source": [
    "Здесь пропусков нет."
   ]
  },
  {
   "cell_type": "markdown",
   "id": "14b7fc5e",
   "metadata": {
    "hidden": true
   },
   "source": [
    "Добавим целевую метку, но пока для каждого действия."
   ]
  },
  {
   "cell_type": "code",
   "execution_count": 9,
   "id": "be0b1cb9",
   "metadata": {
    "hidden": true
   },
   "outputs": [],
   "source": [
    "hits = hits0.copy()\n",
    "hits['target'] = hits['event_action'].apply(lambda x: int(x in target_events))"
   ]
  },
  {
   "cell_type": "markdown",
   "id": "c87ec969",
   "metadata": {
    "hidden": true
   },
   "source": [
    "Поставим метки конкретному id сессии (`session_id`). Метка равна 1, если имеется хотя бы одно из целевых действий. В противном случае ставим метку 0. Для этого сначала сгруппируем датафрейм \"hits\" по столбцу `session_id`."
   ]
  },
  {
   "cell_type": "code",
   "execution_count": 10,
   "id": "30d13dd6",
   "metadata": {
    "hidden": true
   },
   "outputs": [
    {
     "name": "stdout",
     "output_type": "stream",
     "text": [
      "Количество меток:\n"
     ]
    },
    {
     "data": {
      "text/plain": [
       "0    1683850\n",
       "1      50760\n",
       "Name: label, dtype: int64"
      ]
     },
     "execution_count": 10,
     "metadata": {},
     "output_type": "execute_result"
    }
   ],
   "source": [
    "hits_df = pd.DataFrame(hits.groupby('session_id')['target'].sum()).reset_index()\n",
    "hits_df['label'] = hits_df['target'].apply(lambda x: int(x != 0))\n",
    "hits_df = hits_df.drop(['target'], axis=1)\n",
    "print('Количество меток:')\n",
    "hits_df['label'].value_counts()"
   ]
  },
  {
   "cell_type": "code",
   "execution_count": 11,
   "id": "43e84565",
   "metadata": {
    "hidden": true
   },
   "outputs": [
    {
     "name": "stdout",
     "output_type": "stream",
     "text": [
      "Доля целевых меток: 0.029263 = 2.93%\n"
     ]
    }
   ],
   "source": [
    "perc = hits_df['label'].value_counts()[1] / len(hits_df)\n",
    "print(f'Доля целевых меток: {perc:.6f} = {100 * perc:.2f}%')"
   ]
  },
  {
   "cell_type": "markdown",
   "id": "c57479c7",
   "metadata": {
    "hidden": true
   },
   "source": [
    "Найдём все колонки вида utm_*, device_*, geo_*\n",
    "\n",
    "Нерелевантных среди них пока не видно."
   ]
  },
  {
   "cell_type": "code",
   "execution_count": 12,
   "id": "b926b104",
   "metadata": {
    "hidden": true,
    "scrolled": true
   },
   "outputs": [
    {
     "data": {
      "text/plain": [
       "['utm_source',\n",
       " 'utm_medium',\n",
       " 'utm_campaign',\n",
       " 'utm_adcontent',\n",
       " 'utm_keyword',\n",
       " 'device_category',\n",
       " 'device_os',\n",
       " 'device_brand',\n",
       " 'device_model',\n",
       " 'device_screen_resolution',\n",
       " 'device_browser',\n",
       " 'geo_country',\n",
       " 'geo_city']"
      ]
     },
     "execution_count": 12,
     "metadata": {},
     "output_type": "execute_result"
    }
   ],
   "source": [
    "cols = sess0.columns\n",
    "input_cols = [col for col in cols if re.match(r'utm_.*|device_.*|geo_.*', col)]\n",
    "input_cols"
   ]
  },
  {
   "cell_type": "code",
   "execution_count": 13,
   "id": "ca0f918a",
   "metadata": {
    "hidden": true
   },
   "outputs": [
    {
     "name": "stdout",
     "output_type": "stream",
     "text": [
      "Значения session_id в \"sessions\" уникальны (в частности, это значит, что дубликаты отсутствуют), всего их 1_860_042\n",
      "Значения session_id в \"hits\" не уникальны\n",
      "Количество сессий в \"sessions\", которые отсутствуют в \"hits\", равно 127_776\n",
      "Количество сессий в \"hits\", которые отсутствуют в \"sessions\", равно 2_344\n",
      "Это 0.14% от всех сессий в \"hits\"\n",
      "Количество сессий, которые присутствуют в обоих файлах, равно 1_732_266 \n",
      "Это 93.1% от всех сессий в \"sessions\"\n"
     ]
    }
   ],
   "source": [
    "sess_s_ids = set(sess0['session_id']) # Множество сессий из ga_sessions.csv\n",
    "hits_s_ids = set(hits0['session_id']) # Множество сессий из ga_hits.csv\n",
    "if len(sess0) == len(sess_s_ids):\n",
    "    print(f'Значения session_id в \"sessions\" уникальны (в частности, это значит, что дубликаты отсутствуют), всего их', \n",
    "          f'{len(sess_s_ids):_}')\n",
    "if len(hits0) != len(hits_s_ids):\n",
    "    print('Значения session_id в \"hits\" не уникальны')\n",
    "print('Количество сессий в \"sessions\", которые отсутствуют в \"hits\", равно',\n",
    "      f'{len(sess_s_ids - hits_s_ids):_}')\n",
    "print('Количество сессий в \"hits\", которые отсутствуют в \"sessions\", равно',\n",
    "      f'{len(hits_s_ids - sess_s_ids):_}')\n",
    "print(f'Это {100 * len(hits_s_ids - sess_s_ids) / len(hits_s_ids):.2f}% от всех сессий в \"hits\"')\n",
    "print('Количество сессий, которые присутствуют в обоих файлах, равно',\n",
    "      f'{len(hits_s_ids & sess_s_ids):_}',\n",
    "      f'\\nЭто {100 * len(hits_s_ids & sess_s_ids) / len(sess_s_ids):.1f}% от всех сессий в \"sessions\"')"
   ]
  },
  {
   "cell_type": "markdown",
   "id": "0efafb0f",
   "metadata": {
    "hidden": true
   },
   "source": [
    "Таким образом можно использовать слияние типа 'inner', чтобы создать метки, потеряв всего 7% данных (ненужных данных в датафрейме \"hits\" примерно 0.14%, поэтому они практически не замедляют процесс)."
   ]
  },
  {
   "cell_type": "code",
   "execution_count": 14,
   "id": "9631f056",
   "metadata": {
    "hidden": true
   },
   "outputs": [
    {
     "data": {
      "text/plain": [
       "(1732266, 14)"
      ]
     },
     "execution_count": 14,
     "metadata": {},
     "output_type": "execute_result"
    }
   ],
   "source": [
    "df0 = pd.merge(sess0, hits_df, how='inner', on='session_id')\n",
    "df0 = df0[input_cols + ['label']]\n",
    "df0.shape"
   ]
  },
  {
   "cell_type": "markdown",
   "id": "cc80ef49",
   "metadata": {
    "heading_collapsed": true
   },
   "source": [
    "# 2. Разведочный анализ данных"
   ]
  },
  {
   "cell_type": "markdown",
   "id": "56a729a6",
   "metadata": {
    "heading_collapsed": true,
    "hidden": true
   },
   "source": [
    "## Заполнение столбцов"
   ]
  },
  {
   "cell_type": "markdown",
   "id": "fd261b02",
   "metadata": {
    "hidden": true
   },
   "source": [
    "Здесь мы заполним пропущенные значения в столбцах `device_brand` и `device_os`."
   ]
  },
  {
   "cell_type": "code",
   "execution_count": 15,
   "id": "15ee708b",
   "metadata": {
    "hidden": true,
    "scrolled": true
   },
   "outputs": [
    {
     "name": "stdout",
     "output_type": "stream",
     "text": [
      "['(not set)']\n"
     ]
    },
    {
     "data": {
      "text/plain": [
       "Apple        503533\n",
       "Samsung      311641\n",
       "Xiaomi       269251\n",
       "Huawei       173828\n",
       "Realme        17926\n",
       "              ...  \n",
       "Smarteo           1\n",
       "Star              1\n",
       "Mobiistar         1\n",
       "Fero              1\n",
       "Maxvi             1\n",
       "Name: device_brand, Length: 200, dtype: int64"
      ]
     },
     "execution_count": 15,
     "metadata": {},
     "output_type": "execute_result"
    }
   ],
   "source": [
    "values = df0['device_brand'].value_counts()\n",
    "print([i for i in values.index if i[0] == '('])\n",
    "values"
   ]
  },
  {
   "cell_type": "code",
   "execution_count": 16,
   "id": "9a4540d0",
   "metadata": {
    "hidden": true
   },
   "outputs": [
    {
     "data": {
      "text/plain": [
       "Android          425520\n",
       "iOS              182597\n",
       "Windows           81740\n",
       "Macintosh         23415\n",
       "Linux              4616\n",
       "(not set)           309\n",
       "Chrome OS            65\n",
       "BlackBerry           24\n",
       "Tizen                 7\n",
       "Firefox OS            3\n",
       "Nokia                 2\n",
       "Samsung               2\n",
       "Windows Phone         2\n",
       "Name: device_os, dtype: int64"
      ]
     },
     "execution_count": 16,
     "metadata": {},
     "output_type": "execute_result"
    }
   ],
   "source": [
    "df0['device_os'].value_counts()"
   ]
  },
  {
   "cell_type": "markdown",
   "id": "6339f0a1",
   "metadata": {
    "hidden": true
   },
   "source": [
    "Для заполнения одного столбца можно использовать информацию из другого, а так же использовать столбец `device_category`."
   ]
  },
  {
   "cell_type": "code",
   "execution_count": 17,
   "id": "1ca16b64",
   "metadata": {
    "hidden": true
   },
   "outputs": [
    {
     "data": {
      "text/plain": [
       "mobile     1368679\n",
       "desktop     346891\n",
       "tablet       16696\n",
       "Name: device_category, dtype: int64"
      ]
     },
     "execution_count": 17,
     "metadata": {},
     "output_type": "execute_result"
    }
   ],
   "source": [
    "df0['device_category'].value_counts()"
   ]
  },
  {
   "cell_type": "markdown",
   "id": "45713280",
   "metadata": {
    "hidden": true
   },
   "source": [
    "Можно было бы заполнить теми же значениями, что уже имеются в списке возможных значений, но это даёт не лучший результат (проверено!), потому что теряется часть информации. Поэтому заполним немного другими значениями."
   ]
  },
  {
   "cell_type": "code",
   "execution_count": 18,
   "id": "c1432aa7",
   "metadata": {
    "hidden": true
   },
   "outputs": [],
   "source": [
    "# Функции для заполнения пропусков в 'device_brand' и 'device_os':\n",
    "def brand_imputer(x):\n",
    "    x_brand = x['device_brand']\n",
    "    if pd.isna(x_brand) or x_brand == '(not set)': # Значение '(not set)' тоже считаем пропуском.\n",
    "        if x['device_os'] in ['iOS', 'Macintosh']:\n",
    "            return 'Apple_imputed' # Заполненные значения отличаются от оригинальных.\n",
    "        return 'other'\n",
    "    return x_brand\n",
    "\n",
    "def os_imputer(x):\n",
    "    x_os = x['device_os']\n",
    "    x_cat = x['device_category']\n",
    "    if pd.isna(x_os) or x_os == '(not set)':\n",
    "        if x['device_brand'] == 'Apple':\n",
    "            if x_cat != 'desktop':\n",
    "                return 'iOS_imputed'\n",
    "            return 'Macintosh_imputed'\n",
    "        if x_cat != 'desktop':\n",
    "            return 'Android_imputed'\n",
    "        return 'other'\n",
    "    return x_os"
   ]
  },
  {
   "cell_type": "code",
   "execution_count": 19,
   "id": "06cee71b",
   "metadata": {
    "hidden": true
   },
   "outputs": [],
   "source": [
    "df = df0.copy()\n",
    "df['device_brand'] = df.apply(brand_imputer, axis=1)\n",
    "df['device_os'] = df.apply(os_imputer, axis=1)\n",
    "df0a = df.copy()"
   ]
  },
  {
   "cell_type": "markdown",
   "id": "b8a404cf",
   "metadata": {
    "heading_collapsed": true,
    "hidden": true
   },
   "source": [
    "## Пустые значения"
   ]
  },
  {
   "cell_type": "markdown",
   "id": "7572da0d",
   "metadata": {
    "hidden": true
   },
   "source": [
    "Теперь заполним пропущенные значения в остальных столбцах. Для начала выведем количество пустых значений по каждому столбцу."
   ]
  },
  {
   "cell_type": "code",
   "execution_count": 20,
   "id": "ce9a6a7d",
   "metadata": {
    "hidden": true
   },
   "outputs": [
    {
     "name": "stdout",
     "output_type": "stream",
     "text": [
      "utm_source 76\n",
      "utm_medium 0\n",
      "utm_campaign 195,287\n",
      "utm_adcontent 304,137\n",
      "utm_keyword 1,020,752\n",
      "device_category 0\n",
      "device_os 0\n",
      "device_brand 0\n",
      "device_model 1,717,204\n",
      "device_screen_resolution 0\n",
      "device_browser 0\n",
      "geo_country 0\n",
      "geo_city 0\n",
      "label 0\n",
      "Всего в дадасете: 1,732,266\n"
     ]
    }
   ],
   "source": [
    "for col in df.columns:\n",
    "    print(col, f'{df[col].isna().sum():,}')\n",
    "    #print(df[col].nunique())\n",
    "#df.info()\n",
    "print(f'Всего в дадасете: {len(df):,}')"
   ]
  },
  {
   "cell_type": "markdown",
   "id": "a32508e7",
   "metadata": {
    "hidden": true
   },
   "source": [
    "Столбц `device_model` мало информативен. Удалим его.\n",
    "\n",
    "Пропуски заменим на 'other'.\n",
    "\n",
    "Так же некоторые столбцы содержат значения '(not set)' и '(none)'. Его тоже заменим на 'other', поскольку в некоторых столбцах имеется и nan и (no*)."
   ]
  },
  {
   "cell_type": "code",
   "execution_count": 21,
   "id": "51f0c4d9",
   "metadata": {
    "hidden": true
   },
   "outputs": [],
   "source": [
    "cols_for_drop = ['device_model']"
   ]
  },
  {
   "cell_type": "code",
   "execution_count": 22,
   "id": "6a79290a",
   "metadata": {
    "hidden": true,
    "scrolled": false
   },
   "outputs": [
    {
     "data": {
      "text/plain": [
       "(1732266, 13)"
      ]
     },
     "execution_count": 22,
     "metadata": {},
     "output_type": "execute_result"
    }
   ],
   "source": [
    "df = df0a.copy()\n",
    "df = df.drop(cols_for_drop, axis=1)\n",
    "input_cols_rest = list(df.columns)\n",
    "input_cols_rest.remove('label') # оставшиеся входные столбцы\n",
    "\n",
    "for col in input_cols_rest:\n",
    "    df[col] = df[col].fillna('other')\n",
    "\n",
    "df = df.replace('(not set)', 'other')\n",
    "df = df.replace('(none)', 'other')\n",
    "df1 = df.copy()\n",
    "df1.shape"
   ]
  },
  {
   "cell_type": "markdown",
   "id": "8f9817a7",
   "metadata": {
    "heading_collapsed": true,
    "hidden": true
   },
   "source": [
    "## Максимальная вероятность успеха"
   ]
  },
  {
   "cell_type": "markdown",
   "id": "481bce91",
   "metadata": {
    "hidden": true
   },
   "source": [
    "Даже если максимально переучить модель, она не даст 100%-го предсказания, поскольку имеются строки с одинаковыми входными данными, но разными метками. Посчитаем метрики максимально переобученной модели.\n",
    "\n",
    "Обозначим вектор со входными данными за $x$, а метку за $y$ (метка $y$ имеет значение 0 или 1). Пусть $n_0(x)$ и $n_1(x)$ <html>&mdash;</html> количество нулей и единиц для данного $x$. Исходя из имеющейся выборки, вероятность того, что входным данным $x$ соответствует $y=1$, равна\n",
    "$$\n",
    " p(x)=\\frac{n_1(x)}{n_0(x)+n_1(x)}.\n",
    "$$"
   ]
  },
  {
   "cell_type": "code",
   "execution_count": 23,
   "id": "4137a956",
   "metadata": {
    "hidden": true,
    "scrolled": true
   },
   "outputs": [],
   "source": [
    "gr = df1.groupby(input_cols_rest)[['label']]\n",
    "px = gr.transform(lambda x: x.sum() / x.count())"
   ]
  },
  {
   "cell_type": "code",
   "execution_count": 24,
   "id": "ffff20b9",
   "metadata": {
    "hidden": true,
    "scrolled": false
   },
   "outputs": [
    {
     "data": {
      "image/png": "[encoded data removed]",
      "text/plain": [
       "<Figure size 640x480 with 1 Axes>"
      ]
     },
     "metadata": {},
     "output_type": "display_data"
    }
   ],
   "source": [
    "# Построим кривую ROC для максимального переобучения:\n",
    "\n",
    "fpr_max, tpr_max, threshold = roc_curve(df1['label'], px['label'])\n",
    "roc_auc_max = auc(fpr_max, tpr_max)\n",
    "plt.plot(fpr_max, tpr_max, color='black', label=f'Maximal overfitting (area = {roc_auc_max:.5f})')\n",
    "\n",
    "plt.plot([0, 1], [0, 1], color='gray', linestyle='--')\n",
    "plt.xlim([-0.05, 1.05])\n",
    "plt.ylim([-0.05, 1.05])\n",
    "plt.xlabel('False Positive Rate')\n",
    "plt.ylabel('True Positive Rate')\n",
    "plt.legend(loc='lower right')\n",
    "\n",
    "plt.title('Максимальная кривая ROC')\n",
    "plt.show()"
   ]
  },
  {
   "cell_type": "markdown",
   "id": "335e8e92",
   "metadata": {
    "hidden": true
   },
   "source": [
    "При имеющихся данных невозможно подняться выше этой кривой.\n",
    "\n",
    "Максимально возможное значение AUC ROC равно $$AUC\\_ROC_{max} = 0.8914$$"
   ]
  },
  {
   "cell_type": "markdown",
   "id": "6605d6bf",
   "metadata": {
    "heading_collapsed": true,
    "hidden": true
   },
   "source": [
    "## Преобразование типов"
   ]
  },
  {
   "cell_type": "markdown",
   "id": "dadc6f4d",
   "metadata": {
    "hidden": true
   },
   "source": [
    "Преобразуем разрешение экрана в численные характеристики: общее количество пикселей, а так же количество пикселей по горизонтали и вертикали."
   ]
  },
  {
   "cell_type": "code",
   "execution_count": 25,
   "id": "c8816f76",
   "metadata": {
    "hidden": true,
    "scrolled": true
   },
   "outputs": [
    {
     "data": {
      "text/html": [
       "<div>\n",
       "<style scoped>\n",
       "    .dataframe tbody tr th:only-of-type {\n",
       "        vertical-align: middle;\n",
       "    }\n",
       "\n",
       "    .dataframe tbody tr th {\n",
       "        vertical-align: top;\n",
       "    }\n",
       "\n",
       "    .dataframe thead th {\n",
       "        text-align: right;\n",
       "    }\n",
       "</style>\n",
       "<table border=\"1\" class=\"dataframe\">\n",
       "  <thead>\n",
       "    <tr style=\"text-align: right;\">\n",
       "      <th></th>\n",
       "      <th>utm_source</th>\n",
       "      <th>utm_medium</th>\n",
       "      <th>utm_campaign</th>\n",
       "      <th>utm_adcontent</th>\n",
       "      <th>utm_keyword</th>\n",
       "      <th>device_category</th>\n",
       "      <th>device_os</th>\n",
       "      <th>device_brand</th>\n",
       "      <th>device_browser</th>\n",
       "      <th>geo_country</th>\n",
       "      <th>geo_city</th>\n",
       "      <th>label</th>\n",
       "      <th>pixel</th>\n",
       "      <th>x_pixel</th>\n",
       "      <th>y_pixel</th>\n",
       "    </tr>\n",
       "  </thead>\n",
       "  <tbody>\n",
       "    <tr>\n",
       "      <th>0</th>\n",
       "      <td>ZpYIoDJMcFzVoPFsHGJL</td>\n",
       "      <td>banner</td>\n",
       "      <td>LEoPHuyFvzoNfnzGgfcd</td>\n",
       "      <td>vCIpmpaGBnIQhyYNkXqp</td>\n",
       "      <td>puhZPIYqKXeFPaUviSjo</td>\n",
       "      <td>mobile</td>\n",
       "      <td>Android</td>\n",
       "      <td>Huawei</td>\n",
       "      <td>Chrome</td>\n",
       "      <td>Russia</td>\n",
       "      <td>Zlatoust</td>\n",
       "      <td>0</td>\n",
       "      <td>259200</td>\n",
       "      <td>360</td>\n",
       "      <td>720</td>\n",
       "    </tr>\n",
       "    <tr>\n",
       "      <th>1</th>\n",
       "      <td>MvfHsxITijuriZxsqZqt</td>\n",
       "      <td>cpm</td>\n",
       "      <td>FTjNLDyTrXaWYgZymFkV</td>\n",
       "      <td>xhoenQgDQsgfEPYNPwKO</td>\n",
       "      <td>IGUCNvHlhfHpROGclCit</td>\n",
       "      <td>mobile</td>\n",
       "      <td>Android</td>\n",
       "      <td>Samsung</td>\n",
       "      <td>Samsung Internet</td>\n",
       "      <td>Russia</td>\n",
       "      <td>Moscow</td>\n",
       "      <td>0</td>\n",
       "      <td>328790</td>\n",
       "      <td>385</td>\n",
       "      <td>854</td>\n",
       "    </tr>\n",
       "    <tr>\n",
       "      <th>2</th>\n",
       "      <td>ZpYIoDJMcFzVoPFsHGJL</td>\n",
       "      <td>banner</td>\n",
       "      <td>LEoPHuyFvzoNfnzGgfcd</td>\n",
       "      <td>vCIpmpaGBnIQhyYNkXqp</td>\n",
       "      <td>puhZPIYqKXeFPaUviSjo</td>\n",
       "      <td>mobile</td>\n",
       "      <td>Android</td>\n",
       "      <td>Huawei</td>\n",
       "      <td>Chrome</td>\n",
       "      <td>Russia</td>\n",
       "      <td>Krasnoyarsk</td>\n",
       "      <td>0</td>\n",
       "      <td>259200</td>\n",
       "      <td>360</td>\n",
       "      <td>720</td>\n",
       "    </tr>\n",
       "    <tr>\n",
       "      <th>3</th>\n",
       "      <td>kjsLglQLzykiRbcDiGcD</td>\n",
       "      <td>cpc</td>\n",
       "      <td>other</td>\n",
       "      <td>NOBKLgtuvqYWkXQHeYWM</td>\n",
       "      <td>other</td>\n",
       "      <td>mobile</td>\n",
       "      <td>Android_imputed</td>\n",
       "      <td>Xiaomi</td>\n",
       "      <td>Chrome</td>\n",
       "      <td>Russia</td>\n",
       "      <td>Moscow</td>\n",
       "      <td>0</td>\n",
       "      <td>308898</td>\n",
       "      <td>393</td>\n",
       "      <td>786</td>\n",
       "    </tr>\n",
       "    <tr>\n",
       "      <th>4</th>\n",
       "      <td>kjsLglQLzykiRbcDiGcD</td>\n",
       "      <td>cpc</td>\n",
       "      <td>other</td>\n",
       "      <td>other</td>\n",
       "      <td>other</td>\n",
       "      <td>mobile</td>\n",
       "      <td>Android_imputed</td>\n",
       "      <td>Xiaomi</td>\n",
       "      <td>Chrome</td>\n",
       "      <td>Russia</td>\n",
       "      <td>Moscow</td>\n",
       "      <td>0</td>\n",
       "      <td>308898</td>\n",
       "      <td>393</td>\n",
       "      <td>786</td>\n",
       "    </tr>\n",
       "  </tbody>\n",
       "</table>\n",
       "</div>"
      ],
      "text/plain": [
       "             utm_source utm_medium          utm_campaign  \\\n",
       "0  ZpYIoDJMcFzVoPFsHGJL     banner  LEoPHuyFvzoNfnzGgfcd   \n",
       "1  MvfHsxITijuriZxsqZqt        cpm  FTjNLDyTrXaWYgZymFkV   \n",
       "2  ZpYIoDJMcFzVoPFsHGJL     banner  LEoPHuyFvzoNfnzGgfcd   \n",
       "3  kjsLglQLzykiRbcDiGcD        cpc                 other   \n",
       "4  kjsLglQLzykiRbcDiGcD        cpc                 other   \n",
       "\n",
       "          utm_adcontent           utm_keyword device_category  \\\n",
       "0  vCIpmpaGBnIQhyYNkXqp  puhZPIYqKXeFPaUviSjo          mobile   \n",
       "1  xhoenQgDQsgfEPYNPwKO  IGUCNvHlhfHpROGclCit          mobile   \n",
       "2  vCIpmpaGBnIQhyYNkXqp  puhZPIYqKXeFPaUviSjo          mobile   \n",
       "3  NOBKLgtuvqYWkXQHeYWM                 other          mobile   \n",
       "4                 other                 other          mobile   \n",
       "\n",
       "         device_os device_brand    device_browser geo_country     geo_city  \\\n",
       "0          Android       Huawei            Chrome      Russia     Zlatoust   \n",
       "1          Android      Samsung  Samsung Internet      Russia       Moscow   \n",
       "2          Android       Huawei            Chrome      Russia  Krasnoyarsk   \n",
       "3  Android_imputed       Xiaomi            Chrome      Russia       Moscow   \n",
       "4  Android_imputed       Xiaomi            Chrome      Russia       Moscow   \n",
       "\n",
       "   label   pixel  x_pixel  y_pixel  \n",
       "0      0  259200      360      720  \n",
       "1      0  328790      385      854  \n",
       "2      0  259200      360      720  \n",
       "3      0  308898      393      786  \n",
       "4      0  308898      393      786  "
      ]
     },
     "execution_count": 25,
     "metadata": {},
     "output_type": "execute_result"
    }
   ],
   "source": [
    "df = df1.copy()\n",
    "df['pixel'] = df['device_screen_resolution'].apply(lambda x: x.split('x')).apply(lambda x: int(x[0])*int(x[1]))\n",
    "df['x_pixel'] = df['device_screen_resolution'].apply(lambda x: x.split('x')).apply(lambda x: int(x[0]))\n",
    "df['y_pixel'] = df['device_screen_resolution'].apply(lambda x: x.split('x')).apply(lambda x: int(x[1]))\n",
    "\n",
    "df = df.drop(['device_screen_resolution'], axis=1)\n",
    "\n",
    "df2 = df.copy()\n",
    "df2.head()"
   ]
  },
  {
   "cell_type": "markdown",
   "id": "ab78d3b4",
   "metadata": {
    "heading_collapsed": true,
    "hidden": true
   },
   "source": [
    "## Выбросы"
   ]
  },
  {
   "cell_type": "code",
   "execution_count": 26,
   "id": "ca267312",
   "metadata": {
    "hidden": true
   },
   "outputs": [],
   "source": [
    "def visual(df, cols):\n",
    "    for col in cols:\n",
    "        fig, ax = plt.subplots(2,1, figsize=(10,7), sharex=True)\n",
    "        ax[0].hist(df[col])\n",
    "        ax[1].boxplot(df[col], vert=False)\n",
    "        plt.xlabel(col)\n",
    "        ax[0].set_ylabel('Частота')\n",
    "        fig.suptitle(f'Гистограмма и boxplot для \"{col}\"')\n",
    "        plt.show()"
   ]
  },
  {
   "cell_type": "markdown",
   "id": "5c6282e4",
   "metadata": {
    "hidden": true
   },
   "source": [
    "Посмотрим на картину распределения разрешения экрана с точки зрения выбросов сверху."
   ]
  },
  {
   "cell_type": "code",
   "execution_count": 27,
   "id": "28646cf2",
   "metadata": {
    "hidden": true,
    "scrolled": true
   },
   "outputs": [
    {
     "data": {
      "image/png": "[encoded data removed]",
      "text/plain": [
       "<Figure size 1000x700 with 2 Axes>"
      ]
     },
     "metadata": {},
     "output_type": "display_data"
    },
    {
     "data": {
      "image/png": "[encoded data removed]",
      "text/plain": [
       "<Figure size 1000x700 with 2 Axes>"
      ]
     },
     "metadata": {},
     "output_type": "display_data"
    },
    {
     "data": {
      "image/png": "[encoded data removed]",
      "text/plain": [
       "<Figure size 1000x700 with 2 Axes>"
      ]
     },
     "metadata": {},
     "output_type": "display_data"
    }
   ],
   "source": [
    "df = df2.copy()\n",
    "visual(df, ['pixel', 'x_pixel', 'y_pixel'])"
   ]
  },
  {
   "cell_type": "markdown",
   "id": "4391b218",
   "metadata": {
    "hidden": true
   },
   "source": [
    "Распределение количества пикселей вполне соответствует современной реальности.\n",
    "\n",
    "Однако большие значения могут неправильно обучить модель.\n",
    "\n",
    "Лучше их ограничить или взять логарифм."
   ]
  },
  {
   "cell_type": "markdown",
   "id": "77565e20",
   "metadata": {
    "hidden": true
   },
   "source": [
    "Проверим на выбросы снизу."
   ]
  },
  {
   "cell_type": "code",
   "execution_count": 28,
   "id": "6d37cc64",
   "metadata": {
    "hidden": true
   },
   "outputs": [
    {
     "data": {
      "text/html": [
       "<div>\n",
       "<style scoped>\n",
       "    .dataframe tbody tr th:only-of-type {\n",
       "        vertical-align: middle;\n",
       "    }\n",
       "\n",
       "    .dataframe tbody tr th {\n",
       "        vertical-align: top;\n",
       "    }\n",
       "\n",
       "    .dataframe thead th {\n",
       "        text-align: right;\n",
       "    }\n",
       "</style>\n",
       "<table border=\"1\" class=\"dataframe\">\n",
       "  <thead>\n",
       "    <tr style=\"text-align: right;\">\n",
       "      <th></th>\n",
       "      <th>utm_source</th>\n",
       "      <th>utm_medium</th>\n",
       "      <th>utm_campaign</th>\n",
       "      <th>utm_adcontent</th>\n",
       "      <th>utm_keyword</th>\n",
       "      <th>device_category</th>\n",
       "      <th>device_os</th>\n",
       "      <th>device_brand</th>\n",
       "      <th>device_browser</th>\n",
       "      <th>geo_country</th>\n",
       "      <th>geo_city</th>\n",
       "      <th>label</th>\n",
       "      <th>pixel</th>\n",
       "      <th>x_pixel</th>\n",
       "      <th>y_pixel</th>\n",
       "    </tr>\n",
       "  </thead>\n",
       "  <tbody>\n",
       "    <tr>\n",
       "      <th>41296</th>\n",
       "      <td>kjsLglQLzykiRbcDiGcD</td>\n",
       "      <td>cpc</td>\n",
       "      <td>LwJZxKuWmvOhPsaCeRjG</td>\n",
       "      <td>JNHcPlZPxEMWDnRiyoBf</td>\n",
       "      <td>KCcEkEaKEtUilBVMoCAi</td>\n",
       "      <td>desktop</td>\n",
       "      <td>Windows</td>\n",
       "      <td>other</td>\n",
       "      <td>Chrome</td>\n",
       "      <td>Russia</td>\n",
       "      <td>Moscow</td>\n",
       "      <td>0</td>\n",
       "      <td>0</td>\n",
       "      <td>0</td>\n",
       "      <td>0</td>\n",
       "    </tr>\n",
       "    <tr>\n",
       "      <th>58761</th>\n",
       "      <td>kjsLglQLzykiRbcDiGcD</td>\n",
       "      <td>cpc</td>\n",
       "      <td>other</td>\n",
       "      <td>aYAcKhelKzYpXrRYknSP</td>\n",
       "      <td>other</td>\n",
       "      <td>desktop</td>\n",
       "      <td>other</td>\n",
       "      <td>other</td>\n",
       "      <td>Edge</td>\n",
       "      <td>Russia</td>\n",
       "      <td>Saint Petersburg</td>\n",
       "      <td>0</td>\n",
       "      <td>0</td>\n",
       "      <td>0</td>\n",
       "      <td>0</td>\n",
       "    </tr>\n",
       "    <tr>\n",
       "      <th>108556</th>\n",
       "      <td>BHcvLfOaCWvWTykYqHVe</td>\n",
       "      <td>cpc</td>\n",
       "      <td>other</td>\n",
       "      <td>other</td>\n",
       "      <td>other</td>\n",
       "      <td>mobile</td>\n",
       "      <td>Android_imputed</td>\n",
       "      <td>Huawei</td>\n",
       "      <td>YaBrowser</td>\n",
       "      <td>Russia</td>\n",
       "      <td>Vladivostok</td>\n",
       "      <td>0</td>\n",
       "      <td>0</td>\n",
       "      <td>0</td>\n",
       "      <td>0</td>\n",
       "    </tr>\n",
       "    <tr>\n",
       "      <th>250224</th>\n",
       "      <td>fDLlAcSmythWSCVMvqvL</td>\n",
       "      <td>other</td>\n",
       "      <td>LTuZkdKfxRGVceoWkVyg</td>\n",
       "      <td>JNHcPlZPxEMWDnRiyoBf</td>\n",
       "      <td>other</td>\n",
       "      <td>desktop</td>\n",
       "      <td>other</td>\n",
       "      <td>other</td>\n",
       "      <td>Chrome</td>\n",
       "      <td>Russia</td>\n",
       "      <td>Saint Petersburg</td>\n",
       "      <td>0</td>\n",
       "      <td>0</td>\n",
       "      <td>0</td>\n",
       "      <td>0</td>\n",
       "    </tr>\n",
       "    <tr>\n",
       "      <th>434853</th>\n",
       "      <td>geDcueAOghDzHkGMmdOq</td>\n",
       "      <td>cpm</td>\n",
       "      <td>FTjNLDyTrXaWYgZymFkV</td>\n",
       "      <td>WYLajZgbUhGimwBKDZUH</td>\n",
       "      <td>other</td>\n",
       "      <td>mobile</td>\n",
       "      <td>Android_imputed</td>\n",
       "      <td>Samsung</td>\n",
       "      <td>YaBrowser</td>\n",
       "      <td>Russia</td>\n",
       "      <td>Moscow</td>\n",
       "      <td>0</td>\n",
       "      <td>0</td>\n",
       "      <td>0</td>\n",
       "      <td>0</td>\n",
       "    </tr>\n",
       "    <tr>\n",
       "      <th>753209</th>\n",
       "      <td>vFcAhRxLfOWKhvxjELkx</td>\n",
       "      <td>organic</td>\n",
       "      <td>okTXSMadDkjvntEHzIjp</td>\n",
       "      <td>LLfCasrxQzJIyuldcuWy</td>\n",
       "      <td>aXQzDWsJuGXeBXexNHjc</td>\n",
       "      <td>desktop</td>\n",
       "      <td>Linux</td>\n",
       "      <td>other</td>\n",
       "      <td>Chrome</td>\n",
       "      <td>Russia</td>\n",
       "      <td>Saint Petersburg</td>\n",
       "      <td>0</td>\n",
       "      <td>0</td>\n",
       "      <td>0</td>\n",
       "      <td>0</td>\n",
       "    </tr>\n",
       "    <tr>\n",
       "      <th>917653</th>\n",
       "      <td>kjsLglQLzykiRbcDiGcD</td>\n",
       "      <td>cpc</td>\n",
       "      <td>bJJuEXRheRIxXEaYIXqM</td>\n",
       "      <td>other</td>\n",
       "      <td>mrrsABvDmholqItQOtcL</td>\n",
       "      <td>desktop</td>\n",
       "      <td>Windows</td>\n",
       "      <td>other</td>\n",
       "      <td>Chrome</td>\n",
       "      <td>Russia</td>\n",
       "      <td>Moscow</td>\n",
       "      <td>0</td>\n",
       "      <td>0</td>\n",
       "      <td>0</td>\n",
       "      <td>0</td>\n",
       "    </tr>\n",
       "    <tr>\n",
       "      <th>1446270</th>\n",
       "      <td>geDcueAOghDzHkGMmdOq</td>\n",
       "      <td>cpm</td>\n",
       "      <td>FTjNLDyTrXaWYgZymFkV</td>\n",
       "      <td>WYLajZgbUhGimwBKDZUH</td>\n",
       "      <td>other</td>\n",
       "      <td>mobile</td>\n",
       "      <td>Android_imputed</td>\n",
       "      <td>Samsung</td>\n",
       "      <td>Chrome</td>\n",
       "      <td>Russia</td>\n",
       "      <td>Saint Petersburg</td>\n",
       "      <td>0</td>\n",
       "      <td>0</td>\n",
       "      <td>0</td>\n",
       "      <td>0</td>\n",
       "    </tr>\n",
       "    <tr>\n",
       "      <th>1576389</th>\n",
       "      <td>bByPQxmDaMXgpHeypKSM</td>\n",
       "      <td>referral</td>\n",
       "      <td>hkvDVxqLOzGjGaoNiNzN</td>\n",
       "      <td>sYzBROYhjSDbFZCpzGyf</td>\n",
       "      <td>other</td>\n",
       "      <td>desktop</td>\n",
       "      <td>other</td>\n",
       "      <td>other</td>\n",
       "      <td>Chrome</td>\n",
       "      <td>Russia</td>\n",
       "      <td>Saint Petersburg</td>\n",
       "      <td>0</td>\n",
       "      <td>0</td>\n",
       "      <td>0</td>\n",
       "      <td>0</td>\n",
       "    </tr>\n",
       "  </tbody>\n",
       "</table>\n",
       "</div>"
      ],
      "text/plain": [
       "                   utm_source utm_medium          utm_campaign  \\\n",
       "41296    kjsLglQLzykiRbcDiGcD        cpc  LwJZxKuWmvOhPsaCeRjG   \n",
       "58761    kjsLglQLzykiRbcDiGcD        cpc                 other   \n",
       "108556   BHcvLfOaCWvWTykYqHVe        cpc                 other   \n",
       "250224   fDLlAcSmythWSCVMvqvL      other  LTuZkdKfxRGVceoWkVyg   \n",
       "434853   geDcueAOghDzHkGMmdOq        cpm  FTjNLDyTrXaWYgZymFkV   \n",
       "753209   vFcAhRxLfOWKhvxjELkx    organic  okTXSMadDkjvntEHzIjp   \n",
       "917653   kjsLglQLzykiRbcDiGcD        cpc  bJJuEXRheRIxXEaYIXqM   \n",
       "1446270  geDcueAOghDzHkGMmdOq        cpm  FTjNLDyTrXaWYgZymFkV   \n",
       "1576389  bByPQxmDaMXgpHeypKSM   referral  hkvDVxqLOzGjGaoNiNzN   \n",
       "\n",
       "                utm_adcontent           utm_keyword device_category  \\\n",
       "41296    JNHcPlZPxEMWDnRiyoBf  KCcEkEaKEtUilBVMoCAi         desktop   \n",
       "58761    aYAcKhelKzYpXrRYknSP                 other         desktop   \n",
       "108556                  other                 other          mobile   \n",
       "250224   JNHcPlZPxEMWDnRiyoBf                 other         desktop   \n",
       "434853   WYLajZgbUhGimwBKDZUH                 other          mobile   \n",
       "753209   LLfCasrxQzJIyuldcuWy  aXQzDWsJuGXeBXexNHjc         desktop   \n",
       "917653                  other  mrrsABvDmholqItQOtcL         desktop   \n",
       "1446270  WYLajZgbUhGimwBKDZUH                 other          mobile   \n",
       "1576389  sYzBROYhjSDbFZCpzGyf                 other         desktop   \n",
       "\n",
       "               device_os device_brand device_browser geo_country  \\\n",
       "41296            Windows        other         Chrome      Russia   \n",
       "58761              other        other           Edge      Russia   \n",
       "108556   Android_imputed       Huawei      YaBrowser      Russia   \n",
       "250224             other        other         Chrome      Russia   \n",
       "434853   Android_imputed      Samsung      YaBrowser      Russia   \n",
       "753209             Linux        other         Chrome      Russia   \n",
       "917653           Windows        other         Chrome      Russia   \n",
       "1446270  Android_imputed      Samsung         Chrome      Russia   \n",
       "1576389            other        other         Chrome      Russia   \n",
       "\n",
       "                 geo_city  label  pixel  x_pixel  y_pixel  \n",
       "41296              Moscow      0      0        0        0  \n",
       "58761    Saint Petersburg      0      0        0        0  \n",
       "108556        Vladivostok      0      0        0        0  \n",
       "250224   Saint Petersburg      0      0        0        0  \n",
       "434853             Moscow      0      0        0        0  \n",
       "753209   Saint Petersburg      0      0        0        0  \n",
       "917653             Moscow      0      0        0        0  \n",
       "1446270  Saint Petersburg      0      0        0        0  \n",
       "1576389  Saint Petersburg      0      0        0        0  "
      ]
     },
     "execution_count": 28,
     "metadata": {},
     "output_type": "execute_result"
    }
   ],
   "source": [
    "df[df['pixel'] < 50000]"
   ]
  },
  {
   "cell_type": "code",
   "execution_count": 29,
   "id": "2a971a95",
   "metadata": {
    "hidden": true
   },
   "outputs": [
    {
     "data": {
      "text/html": [
       "<div>\n",
       "<style scoped>\n",
       "    .dataframe tbody tr th:only-of-type {\n",
       "        vertical-align: middle;\n",
       "    }\n",
       "\n",
       "    .dataframe tbody tr th {\n",
       "        vertical-align: top;\n",
       "    }\n",
       "\n",
       "    .dataframe thead th {\n",
       "        text-align: right;\n",
       "    }\n",
       "</style>\n",
       "<table border=\"1\" class=\"dataframe\">\n",
       "  <thead>\n",
       "    <tr style=\"text-align: right;\">\n",
       "      <th></th>\n",
       "      <th>utm_source</th>\n",
       "      <th>utm_medium</th>\n",
       "      <th>utm_campaign</th>\n",
       "      <th>utm_adcontent</th>\n",
       "      <th>utm_keyword</th>\n",
       "      <th>device_category</th>\n",
       "      <th>device_os</th>\n",
       "      <th>device_brand</th>\n",
       "      <th>device_browser</th>\n",
       "      <th>geo_country</th>\n",
       "      <th>geo_city</th>\n",
       "      <th>label</th>\n",
       "      <th>pixel</th>\n",
       "      <th>x_pixel</th>\n",
       "      <th>y_pixel</th>\n",
       "    </tr>\n",
       "  </thead>\n",
       "  <tbody>\n",
       "    <tr>\n",
       "      <th>41296</th>\n",
       "      <td>kjsLglQLzykiRbcDiGcD</td>\n",
       "      <td>cpc</td>\n",
       "      <td>LwJZxKuWmvOhPsaCeRjG</td>\n",
       "      <td>JNHcPlZPxEMWDnRiyoBf</td>\n",
       "      <td>KCcEkEaKEtUilBVMoCAi</td>\n",
       "      <td>desktop</td>\n",
       "      <td>Windows</td>\n",
       "      <td>other</td>\n",
       "      <td>Chrome</td>\n",
       "      <td>Russia</td>\n",
       "      <td>Moscow</td>\n",
       "      <td>0</td>\n",
       "      <td>0</td>\n",
       "      <td>0</td>\n",
       "      <td>0</td>\n",
       "    </tr>\n",
       "    <tr>\n",
       "      <th>58761</th>\n",
       "      <td>kjsLglQLzykiRbcDiGcD</td>\n",
       "      <td>cpc</td>\n",
       "      <td>other</td>\n",
       "      <td>aYAcKhelKzYpXrRYknSP</td>\n",
       "      <td>other</td>\n",
       "      <td>desktop</td>\n",
       "      <td>other</td>\n",
       "      <td>other</td>\n",
       "      <td>Edge</td>\n",
       "      <td>Russia</td>\n",
       "      <td>Saint Petersburg</td>\n",
       "      <td>0</td>\n",
       "      <td>0</td>\n",
       "      <td>0</td>\n",
       "      <td>0</td>\n",
       "    </tr>\n",
       "    <tr>\n",
       "      <th>108556</th>\n",
       "      <td>BHcvLfOaCWvWTykYqHVe</td>\n",
       "      <td>cpc</td>\n",
       "      <td>other</td>\n",
       "      <td>other</td>\n",
       "      <td>other</td>\n",
       "      <td>mobile</td>\n",
       "      <td>Android_imputed</td>\n",
       "      <td>Huawei</td>\n",
       "      <td>YaBrowser</td>\n",
       "      <td>Russia</td>\n",
       "      <td>Vladivostok</td>\n",
       "      <td>0</td>\n",
       "      <td>0</td>\n",
       "      <td>0</td>\n",
       "      <td>0</td>\n",
       "    </tr>\n",
       "    <tr>\n",
       "      <th>250224</th>\n",
       "      <td>fDLlAcSmythWSCVMvqvL</td>\n",
       "      <td>other</td>\n",
       "      <td>LTuZkdKfxRGVceoWkVyg</td>\n",
       "      <td>JNHcPlZPxEMWDnRiyoBf</td>\n",
       "      <td>other</td>\n",
       "      <td>desktop</td>\n",
       "      <td>other</td>\n",
       "      <td>other</td>\n",
       "      <td>Chrome</td>\n",
       "      <td>Russia</td>\n",
       "      <td>Saint Petersburg</td>\n",
       "      <td>0</td>\n",
       "      <td>0</td>\n",
       "      <td>0</td>\n",
       "      <td>0</td>\n",
       "    </tr>\n",
       "    <tr>\n",
       "      <th>434853</th>\n",
       "      <td>geDcueAOghDzHkGMmdOq</td>\n",
       "      <td>cpm</td>\n",
       "      <td>FTjNLDyTrXaWYgZymFkV</td>\n",
       "      <td>WYLajZgbUhGimwBKDZUH</td>\n",
       "      <td>other</td>\n",
       "      <td>mobile</td>\n",
       "      <td>Android_imputed</td>\n",
       "      <td>Samsung</td>\n",
       "      <td>YaBrowser</td>\n",
       "      <td>Russia</td>\n",
       "      <td>Moscow</td>\n",
       "      <td>0</td>\n",
       "      <td>0</td>\n",
       "      <td>0</td>\n",
       "      <td>0</td>\n",
       "    </tr>\n",
       "    <tr>\n",
       "      <th>753209</th>\n",
       "      <td>vFcAhRxLfOWKhvxjELkx</td>\n",
       "      <td>organic</td>\n",
       "      <td>okTXSMadDkjvntEHzIjp</td>\n",
       "      <td>LLfCasrxQzJIyuldcuWy</td>\n",
       "      <td>aXQzDWsJuGXeBXexNHjc</td>\n",
       "      <td>desktop</td>\n",
       "      <td>Linux</td>\n",
       "      <td>other</td>\n",
       "      <td>Chrome</td>\n",
       "      <td>Russia</td>\n",
       "      <td>Saint Petersburg</td>\n",
       "      <td>0</td>\n",
       "      <td>0</td>\n",
       "      <td>0</td>\n",
       "      <td>0</td>\n",
       "    </tr>\n",
       "    <tr>\n",
       "      <th>917653</th>\n",
       "      <td>kjsLglQLzykiRbcDiGcD</td>\n",
       "      <td>cpc</td>\n",
       "      <td>bJJuEXRheRIxXEaYIXqM</td>\n",
       "      <td>other</td>\n",
       "      <td>mrrsABvDmholqItQOtcL</td>\n",
       "      <td>desktop</td>\n",
       "      <td>Windows</td>\n",
       "      <td>other</td>\n",
       "      <td>Chrome</td>\n",
       "      <td>Russia</td>\n",
       "      <td>Moscow</td>\n",
       "      <td>0</td>\n",
       "      <td>0</td>\n",
       "      <td>0</td>\n",
       "      <td>0</td>\n",
       "    </tr>\n",
       "    <tr>\n",
       "      <th>1446270</th>\n",
       "      <td>geDcueAOghDzHkGMmdOq</td>\n",
       "      <td>cpm</td>\n",
       "      <td>FTjNLDyTrXaWYgZymFkV</td>\n",
       "      <td>WYLajZgbUhGimwBKDZUH</td>\n",
       "      <td>other</td>\n",
       "      <td>mobile</td>\n",
       "      <td>Android_imputed</td>\n",
       "      <td>Samsung</td>\n",
       "      <td>Chrome</td>\n",
       "      <td>Russia</td>\n",
       "      <td>Saint Petersburg</td>\n",
       "      <td>0</td>\n",
       "      <td>0</td>\n",
       "      <td>0</td>\n",
       "      <td>0</td>\n",
       "    </tr>\n",
       "    <tr>\n",
       "      <th>1576389</th>\n",
       "      <td>bByPQxmDaMXgpHeypKSM</td>\n",
       "      <td>referral</td>\n",
       "      <td>hkvDVxqLOzGjGaoNiNzN</td>\n",
       "      <td>sYzBROYhjSDbFZCpzGyf</td>\n",
       "      <td>other</td>\n",
       "      <td>desktop</td>\n",
       "      <td>other</td>\n",
       "      <td>other</td>\n",
       "      <td>Chrome</td>\n",
       "      <td>Russia</td>\n",
       "      <td>Saint Petersburg</td>\n",
       "      <td>0</td>\n",
       "      <td>0</td>\n",
       "      <td>0</td>\n",
       "      <td>0</td>\n",
       "    </tr>\n",
       "  </tbody>\n",
       "</table>\n",
       "</div>"
      ],
      "text/plain": [
       "                   utm_source utm_medium          utm_campaign  \\\n",
       "41296    kjsLglQLzykiRbcDiGcD        cpc  LwJZxKuWmvOhPsaCeRjG   \n",
       "58761    kjsLglQLzykiRbcDiGcD        cpc                 other   \n",
       "108556   BHcvLfOaCWvWTykYqHVe        cpc                 other   \n",
       "250224   fDLlAcSmythWSCVMvqvL      other  LTuZkdKfxRGVceoWkVyg   \n",
       "434853   geDcueAOghDzHkGMmdOq        cpm  FTjNLDyTrXaWYgZymFkV   \n",
       "753209   vFcAhRxLfOWKhvxjELkx    organic  okTXSMadDkjvntEHzIjp   \n",
       "917653   kjsLglQLzykiRbcDiGcD        cpc  bJJuEXRheRIxXEaYIXqM   \n",
       "1446270  geDcueAOghDzHkGMmdOq        cpm  FTjNLDyTrXaWYgZymFkV   \n",
       "1576389  bByPQxmDaMXgpHeypKSM   referral  hkvDVxqLOzGjGaoNiNzN   \n",
       "\n",
       "                utm_adcontent           utm_keyword device_category  \\\n",
       "41296    JNHcPlZPxEMWDnRiyoBf  KCcEkEaKEtUilBVMoCAi         desktop   \n",
       "58761    aYAcKhelKzYpXrRYknSP                 other         desktop   \n",
       "108556                  other                 other          mobile   \n",
       "250224   JNHcPlZPxEMWDnRiyoBf                 other         desktop   \n",
       "434853   WYLajZgbUhGimwBKDZUH                 other          mobile   \n",
       "753209   LLfCasrxQzJIyuldcuWy  aXQzDWsJuGXeBXexNHjc         desktop   \n",
       "917653                  other  mrrsABvDmholqItQOtcL         desktop   \n",
       "1446270  WYLajZgbUhGimwBKDZUH                 other          mobile   \n",
       "1576389  sYzBROYhjSDbFZCpzGyf                 other         desktop   \n",
       "\n",
       "               device_os device_brand device_browser geo_country  \\\n",
       "41296            Windows        other         Chrome      Russia   \n",
       "58761              other        other           Edge      Russia   \n",
       "108556   Android_imputed       Huawei      YaBrowser      Russia   \n",
       "250224             other        other         Chrome      Russia   \n",
       "434853   Android_imputed      Samsung      YaBrowser      Russia   \n",
       "753209             Linux        other         Chrome      Russia   \n",
       "917653           Windows        other         Chrome      Russia   \n",
       "1446270  Android_imputed      Samsung         Chrome      Russia   \n",
       "1576389            other        other         Chrome      Russia   \n",
       "\n",
       "                 geo_city  label  pixel  x_pixel  y_pixel  \n",
       "41296              Moscow      0      0        0        0  \n",
       "58761    Saint Petersburg      0      0        0        0  \n",
       "108556        Vladivostok      0      0        0        0  \n",
       "250224   Saint Petersburg      0      0        0        0  \n",
       "434853             Moscow      0      0        0        0  \n",
       "753209   Saint Petersburg      0      0        0        0  \n",
       "917653             Moscow      0      0        0        0  \n",
       "1446270  Saint Petersburg      0      0        0        0  \n",
       "1576389  Saint Petersburg      0      0        0        0  "
      ]
     },
     "execution_count": 29,
     "metadata": {},
     "output_type": "execute_result"
    }
   ],
   "source": [
    "df[df['x_pixel'] < 100]"
   ]
  },
  {
   "cell_type": "code",
   "execution_count": 30,
   "id": "f65a2dc0",
   "metadata": {
    "hidden": true
   },
   "outputs": [
    {
     "data": {
      "text/html": [
       "<div>\n",
       "<style scoped>\n",
       "    .dataframe tbody tr th:only-of-type {\n",
       "        vertical-align: middle;\n",
       "    }\n",
       "\n",
       "    .dataframe tbody tr th {\n",
       "        vertical-align: top;\n",
       "    }\n",
       "\n",
       "    .dataframe thead th {\n",
       "        text-align: right;\n",
       "    }\n",
       "</style>\n",
       "<table border=\"1\" class=\"dataframe\">\n",
       "  <thead>\n",
       "    <tr style=\"text-align: right;\">\n",
       "      <th></th>\n",
       "      <th>utm_source</th>\n",
       "      <th>utm_medium</th>\n",
       "      <th>utm_campaign</th>\n",
       "      <th>utm_adcontent</th>\n",
       "      <th>utm_keyword</th>\n",
       "      <th>device_category</th>\n",
       "      <th>device_os</th>\n",
       "      <th>device_brand</th>\n",
       "      <th>device_browser</th>\n",
       "      <th>geo_country</th>\n",
       "      <th>geo_city</th>\n",
       "      <th>label</th>\n",
       "      <th>pixel</th>\n",
       "      <th>x_pixel</th>\n",
       "      <th>y_pixel</th>\n",
       "    </tr>\n",
       "  </thead>\n",
       "  <tbody>\n",
       "    <tr>\n",
       "      <th>41296</th>\n",
       "      <td>kjsLglQLzykiRbcDiGcD</td>\n",
       "      <td>cpc</td>\n",
       "      <td>LwJZxKuWmvOhPsaCeRjG</td>\n",
       "      <td>JNHcPlZPxEMWDnRiyoBf</td>\n",
       "      <td>KCcEkEaKEtUilBVMoCAi</td>\n",
       "      <td>desktop</td>\n",
       "      <td>Windows</td>\n",
       "      <td>other</td>\n",
       "      <td>Chrome</td>\n",
       "      <td>Russia</td>\n",
       "      <td>Moscow</td>\n",
       "      <td>0</td>\n",
       "      <td>0</td>\n",
       "      <td>0</td>\n",
       "      <td>0</td>\n",
       "    </tr>\n",
       "    <tr>\n",
       "      <th>58761</th>\n",
       "      <td>kjsLglQLzykiRbcDiGcD</td>\n",
       "      <td>cpc</td>\n",
       "      <td>other</td>\n",
       "      <td>aYAcKhelKzYpXrRYknSP</td>\n",
       "      <td>other</td>\n",
       "      <td>desktop</td>\n",
       "      <td>other</td>\n",
       "      <td>other</td>\n",
       "      <td>Edge</td>\n",
       "      <td>Russia</td>\n",
       "      <td>Saint Petersburg</td>\n",
       "      <td>0</td>\n",
       "      <td>0</td>\n",
       "      <td>0</td>\n",
       "      <td>0</td>\n",
       "    </tr>\n",
       "    <tr>\n",
       "      <th>108556</th>\n",
       "      <td>BHcvLfOaCWvWTykYqHVe</td>\n",
       "      <td>cpc</td>\n",
       "      <td>other</td>\n",
       "      <td>other</td>\n",
       "      <td>other</td>\n",
       "      <td>mobile</td>\n",
       "      <td>Android_imputed</td>\n",
       "      <td>Huawei</td>\n",
       "      <td>YaBrowser</td>\n",
       "      <td>Russia</td>\n",
       "      <td>Vladivostok</td>\n",
       "      <td>0</td>\n",
       "      <td>0</td>\n",
       "      <td>0</td>\n",
       "      <td>0</td>\n",
       "    </tr>\n",
       "    <tr>\n",
       "      <th>250224</th>\n",
       "      <td>fDLlAcSmythWSCVMvqvL</td>\n",
       "      <td>other</td>\n",
       "      <td>LTuZkdKfxRGVceoWkVyg</td>\n",
       "      <td>JNHcPlZPxEMWDnRiyoBf</td>\n",
       "      <td>other</td>\n",
       "      <td>desktop</td>\n",
       "      <td>other</td>\n",
       "      <td>other</td>\n",
       "      <td>Chrome</td>\n",
       "      <td>Russia</td>\n",
       "      <td>Saint Petersburg</td>\n",
       "      <td>0</td>\n",
       "      <td>0</td>\n",
       "      <td>0</td>\n",
       "      <td>0</td>\n",
       "    </tr>\n",
       "    <tr>\n",
       "      <th>434853</th>\n",
       "      <td>geDcueAOghDzHkGMmdOq</td>\n",
       "      <td>cpm</td>\n",
       "      <td>FTjNLDyTrXaWYgZymFkV</td>\n",
       "      <td>WYLajZgbUhGimwBKDZUH</td>\n",
       "      <td>other</td>\n",
       "      <td>mobile</td>\n",
       "      <td>Android_imputed</td>\n",
       "      <td>Samsung</td>\n",
       "      <td>YaBrowser</td>\n",
       "      <td>Russia</td>\n",
       "      <td>Moscow</td>\n",
       "      <td>0</td>\n",
       "      <td>0</td>\n",
       "      <td>0</td>\n",
       "      <td>0</td>\n",
       "    </tr>\n",
       "    <tr>\n",
       "      <th>753209</th>\n",
       "      <td>vFcAhRxLfOWKhvxjELkx</td>\n",
       "      <td>organic</td>\n",
       "      <td>okTXSMadDkjvntEHzIjp</td>\n",
       "      <td>LLfCasrxQzJIyuldcuWy</td>\n",
       "      <td>aXQzDWsJuGXeBXexNHjc</td>\n",
       "      <td>desktop</td>\n",
       "      <td>Linux</td>\n",
       "      <td>other</td>\n",
       "      <td>Chrome</td>\n",
       "      <td>Russia</td>\n",
       "      <td>Saint Petersburg</td>\n",
       "      <td>0</td>\n",
       "      <td>0</td>\n",
       "      <td>0</td>\n",
       "      <td>0</td>\n",
       "    </tr>\n",
       "    <tr>\n",
       "      <th>917653</th>\n",
       "      <td>kjsLglQLzykiRbcDiGcD</td>\n",
       "      <td>cpc</td>\n",
       "      <td>bJJuEXRheRIxXEaYIXqM</td>\n",
       "      <td>other</td>\n",
       "      <td>mrrsABvDmholqItQOtcL</td>\n",
       "      <td>desktop</td>\n",
       "      <td>Windows</td>\n",
       "      <td>other</td>\n",
       "      <td>Chrome</td>\n",
       "      <td>Russia</td>\n",
       "      <td>Moscow</td>\n",
       "      <td>0</td>\n",
       "      <td>0</td>\n",
       "      <td>0</td>\n",
       "      <td>0</td>\n",
       "    </tr>\n",
       "    <tr>\n",
       "      <th>1446270</th>\n",
       "      <td>geDcueAOghDzHkGMmdOq</td>\n",
       "      <td>cpm</td>\n",
       "      <td>FTjNLDyTrXaWYgZymFkV</td>\n",
       "      <td>WYLajZgbUhGimwBKDZUH</td>\n",
       "      <td>other</td>\n",
       "      <td>mobile</td>\n",
       "      <td>Android_imputed</td>\n",
       "      <td>Samsung</td>\n",
       "      <td>Chrome</td>\n",
       "      <td>Russia</td>\n",
       "      <td>Saint Petersburg</td>\n",
       "      <td>0</td>\n",
       "      <td>0</td>\n",
       "      <td>0</td>\n",
       "      <td>0</td>\n",
       "    </tr>\n",
       "    <tr>\n",
       "      <th>1576389</th>\n",
       "      <td>bByPQxmDaMXgpHeypKSM</td>\n",
       "      <td>referral</td>\n",
       "      <td>hkvDVxqLOzGjGaoNiNzN</td>\n",
       "      <td>sYzBROYhjSDbFZCpzGyf</td>\n",
       "      <td>other</td>\n",
       "      <td>desktop</td>\n",
       "      <td>other</td>\n",
       "      <td>other</td>\n",
       "      <td>Chrome</td>\n",
       "      <td>Russia</td>\n",
       "      <td>Saint Petersburg</td>\n",
       "      <td>0</td>\n",
       "      <td>0</td>\n",
       "      <td>0</td>\n",
       "      <td>0</td>\n",
       "    </tr>\n",
       "  </tbody>\n",
       "</table>\n",
       "</div>"
      ],
      "text/plain": [
       "                   utm_source utm_medium          utm_campaign  \\\n",
       "41296    kjsLglQLzykiRbcDiGcD        cpc  LwJZxKuWmvOhPsaCeRjG   \n",
       "58761    kjsLglQLzykiRbcDiGcD        cpc                 other   \n",
       "108556   BHcvLfOaCWvWTykYqHVe        cpc                 other   \n",
       "250224   fDLlAcSmythWSCVMvqvL      other  LTuZkdKfxRGVceoWkVyg   \n",
       "434853   geDcueAOghDzHkGMmdOq        cpm  FTjNLDyTrXaWYgZymFkV   \n",
       "753209   vFcAhRxLfOWKhvxjELkx    organic  okTXSMadDkjvntEHzIjp   \n",
       "917653   kjsLglQLzykiRbcDiGcD        cpc  bJJuEXRheRIxXEaYIXqM   \n",
       "1446270  geDcueAOghDzHkGMmdOq        cpm  FTjNLDyTrXaWYgZymFkV   \n",
       "1576389  bByPQxmDaMXgpHeypKSM   referral  hkvDVxqLOzGjGaoNiNzN   \n",
       "\n",
       "                utm_adcontent           utm_keyword device_category  \\\n",
       "41296    JNHcPlZPxEMWDnRiyoBf  KCcEkEaKEtUilBVMoCAi         desktop   \n",
       "58761    aYAcKhelKzYpXrRYknSP                 other         desktop   \n",
       "108556                  other                 other          mobile   \n",
       "250224   JNHcPlZPxEMWDnRiyoBf                 other         desktop   \n",
       "434853   WYLajZgbUhGimwBKDZUH                 other          mobile   \n",
       "753209   LLfCasrxQzJIyuldcuWy  aXQzDWsJuGXeBXexNHjc         desktop   \n",
       "917653                  other  mrrsABvDmholqItQOtcL         desktop   \n",
       "1446270  WYLajZgbUhGimwBKDZUH                 other          mobile   \n",
       "1576389  sYzBROYhjSDbFZCpzGyf                 other         desktop   \n",
       "\n",
       "               device_os device_brand device_browser geo_country  \\\n",
       "41296            Windows        other         Chrome      Russia   \n",
       "58761              other        other           Edge      Russia   \n",
       "108556   Android_imputed       Huawei      YaBrowser      Russia   \n",
       "250224             other        other         Chrome      Russia   \n",
       "434853   Android_imputed      Samsung      YaBrowser      Russia   \n",
       "753209             Linux        other         Chrome      Russia   \n",
       "917653           Windows        other         Chrome      Russia   \n",
       "1446270  Android_imputed      Samsung         Chrome      Russia   \n",
       "1576389            other        other         Chrome      Russia   \n",
       "\n",
       "                 geo_city  label  pixel  x_pixel  y_pixel  \n",
       "41296              Moscow      0      0        0        0  \n",
       "58761    Saint Petersburg      0      0        0        0  \n",
       "108556        Vladivostok      0      0        0        0  \n",
       "250224   Saint Petersburg      0      0        0        0  \n",
       "434853             Moscow      0      0        0        0  \n",
       "753209   Saint Petersburg      0      0        0        0  \n",
       "917653             Moscow      0      0        0        0  \n",
       "1446270  Saint Petersburg      0      0        0        0  \n",
       "1576389  Saint Petersburg      0      0        0        0  "
      ]
     },
     "execution_count": 30,
     "metadata": {},
     "output_type": "execute_result"
    }
   ],
   "source": [
    "df[df['y_pixel'] < 250]"
   ]
  },
  {
   "cell_type": "markdown",
   "id": "119bd414",
   "metadata": {
    "hidden": true
   },
   "source": [
    "Все выбросы снизу имеют только нулевые значения.\n",
    "\n",
    "Заменим их на медиану, поскольку нулевое значение разрешения эквивалентно отсутствию значения, а медиана не очень чувствительна к выбросам."
   ]
  },
  {
   "cell_type": "code",
   "execution_count": 31,
   "id": "a09d9d6c",
   "metadata": {
    "hidden": true
   },
   "outputs": [],
   "source": [
    "df = df2.copy()\n",
    "mx = df['x_pixel'].median()\n",
    "my = df['y_pixel'].median()\n",
    "for i in df.index:\n",
    "    if df.loc[i, 'pixel'] == 0:\n",
    "        df.loc[i, 'pixel'] = int(mx*my)\n",
    "        df.loc[i, 'x_pixel'] = int(mx)\n",
    "        df.loc[i, 'y_pixel'] = int(my)\n",
    "df3 = df.copy()"
   ]
  },
  {
   "cell_type": "markdown",
   "id": "f16fd3cb",
   "metadata": {
    "heading_collapsed": true
   },
   "source": [
    "# 3. Новые фичи"
   ]
  },
  {
   "cell_type": "markdown",
   "id": "5e7a4067",
   "metadata": {
    "heading_collapsed": true,
    "hidden": true
   },
   "source": [
    "## Пиксели экрана"
   ]
  },
  {
   "cell_type": "markdown",
   "id": "e2c2d0a9",
   "metadata": {
    "hidden": true
   },
   "source": [
    "Как и обещали выше берём логарифм от количества пикселей. Обычное число тоже оставим, но немного ограничим."
   ]
  },
  {
   "cell_type": "code",
   "execution_count": 32,
   "id": "62a0bd5f",
   "metadata": {
    "hidden": true,
    "scrolled": true
   },
   "outputs": [
    {
     "data": {
      "text/html": [
       "<div>\n",
       "<style scoped>\n",
       "    .dataframe tbody tr th:only-of-type {\n",
       "        vertical-align: middle;\n",
       "    }\n",
       "\n",
       "    .dataframe tbody tr th {\n",
       "        vertical-align: top;\n",
       "    }\n",
       "\n",
       "    .dataframe thead th {\n",
       "        text-align: right;\n",
       "    }\n",
       "</style>\n",
       "<table border=\"1\" class=\"dataframe\">\n",
       "  <thead>\n",
       "    <tr style=\"text-align: right;\">\n",
       "      <th></th>\n",
       "      <th>utm_source</th>\n",
       "      <th>utm_medium</th>\n",
       "      <th>utm_campaign</th>\n",
       "      <th>utm_adcontent</th>\n",
       "      <th>utm_keyword</th>\n",
       "      <th>device_category</th>\n",
       "      <th>device_os</th>\n",
       "      <th>device_brand</th>\n",
       "      <th>device_browser</th>\n",
       "      <th>geo_country</th>\n",
       "      <th>geo_city</th>\n",
       "      <th>label</th>\n",
       "      <th>pixel</th>\n",
       "      <th>x_pixel</th>\n",
       "      <th>y_pixel</th>\n",
       "      <th>log_pixel</th>\n",
       "      <th>log_x_pixel</th>\n",
       "      <th>log_y_pixel</th>\n",
       "    </tr>\n",
       "  </thead>\n",
       "  <tbody>\n",
       "    <tr>\n",
       "      <th>0</th>\n",
       "      <td>ZpYIoDJMcFzVoPFsHGJL</td>\n",
       "      <td>banner</td>\n",
       "      <td>LEoPHuyFvzoNfnzGgfcd</td>\n",
       "      <td>vCIpmpaGBnIQhyYNkXqp</td>\n",
       "      <td>puhZPIYqKXeFPaUviSjo</td>\n",
       "      <td>mobile</td>\n",
       "      <td>Android</td>\n",
       "      <td>Huawei</td>\n",
       "      <td>Chrome</td>\n",
       "      <td>Russia</td>\n",
       "      <td>Zlatoust</td>\n",
       "      <td>0</td>\n",
       "      <td>259200</td>\n",
       "      <td>360</td>\n",
       "      <td>720</td>\n",
       "      <td>12.465355</td>\n",
       "      <td>5.886104</td>\n",
       "      <td>6.579251</td>\n",
       "    </tr>\n",
       "    <tr>\n",
       "      <th>1</th>\n",
       "      <td>MvfHsxITijuriZxsqZqt</td>\n",
       "      <td>cpm</td>\n",
       "      <td>FTjNLDyTrXaWYgZymFkV</td>\n",
       "      <td>xhoenQgDQsgfEPYNPwKO</td>\n",
       "      <td>IGUCNvHlhfHpROGclCit</td>\n",
       "      <td>mobile</td>\n",
       "      <td>Android</td>\n",
       "      <td>Samsung</td>\n",
       "      <td>Samsung Internet</td>\n",
       "      <td>Russia</td>\n",
       "      <td>Moscow</td>\n",
       "      <td>0</td>\n",
       "      <td>328790</td>\n",
       "      <td>385</td>\n",
       "      <td>854</td>\n",
       "      <td>12.703175</td>\n",
       "      <td>5.953243</td>\n",
       "      <td>6.749931</td>\n",
       "    </tr>\n",
       "    <tr>\n",
       "      <th>2</th>\n",
       "      <td>ZpYIoDJMcFzVoPFsHGJL</td>\n",
       "      <td>banner</td>\n",
       "      <td>LEoPHuyFvzoNfnzGgfcd</td>\n",
       "      <td>vCIpmpaGBnIQhyYNkXqp</td>\n",
       "      <td>puhZPIYqKXeFPaUviSjo</td>\n",
       "      <td>mobile</td>\n",
       "      <td>Android</td>\n",
       "      <td>Huawei</td>\n",
       "      <td>Chrome</td>\n",
       "      <td>Russia</td>\n",
       "      <td>Krasnoyarsk</td>\n",
       "      <td>0</td>\n",
       "      <td>259200</td>\n",
       "      <td>360</td>\n",
       "      <td>720</td>\n",
       "      <td>12.465355</td>\n",
       "      <td>5.886104</td>\n",
       "      <td>6.579251</td>\n",
       "    </tr>\n",
       "    <tr>\n",
       "      <th>3</th>\n",
       "      <td>kjsLglQLzykiRbcDiGcD</td>\n",
       "      <td>cpc</td>\n",
       "      <td>other</td>\n",
       "      <td>NOBKLgtuvqYWkXQHeYWM</td>\n",
       "      <td>other</td>\n",
       "      <td>mobile</td>\n",
       "      <td>Android_imputed</td>\n",
       "      <td>Xiaomi</td>\n",
       "      <td>Chrome</td>\n",
       "      <td>Russia</td>\n",
       "      <td>Moscow</td>\n",
       "      <td>0</td>\n",
       "      <td>308898</td>\n",
       "      <td>393</td>\n",
       "      <td>786</td>\n",
       "      <td>12.640766</td>\n",
       "      <td>5.973810</td>\n",
       "      <td>6.666957</td>\n",
       "    </tr>\n",
       "    <tr>\n",
       "      <th>4</th>\n",
       "      <td>kjsLglQLzykiRbcDiGcD</td>\n",
       "      <td>cpc</td>\n",
       "      <td>other</td>\n",
       "      <td>other</td>\n",
       "      <td>other</td>\n",
       "      <td>mobile</td>\n",
       "      <td>Android_imputed</td>\n",
       "      <td>Xiaomi</td>\n",
       "      <td>Chrome</td>\n",
       "      <td>Russia</td>\n",
       "      <td>Moscow</td>\n",
       "      <td>0</td>\n",
       "      <td>308898</td>\n",
       "      <td>393</td>\n",
       "      <td>786</td>\n",
       "      <td>12.640766</td>\n",
       "      <td>5.973810</td>\n",
       "      <td>6.666957</td>\n",
       "    </tr>\n",
       "  </tbody>\n",
       "</table>\n",
       "</div>"
      ],
      "text/plain": [
       "             utm_source utm_medium          utm_campaign  \\\n",
       "0  ZpYIoDJMcFzVoPFsHGJL     banner  LEoPHuyFvzoNfnzGgfcd   \n",
       "1  MvfHsxITijuriZxsqZqt        cpm  FTjNLDyTrXaWYgZymFkV   \n",
       "2  ZpYIoDJMcFzVoPFsHGJL     banner  LEoPHuyFvzoNfnzGgfcd   \n",
       "3  kjsLglQLzykiRbcDiGcD        cpc                 other   \n",
       "4  kjsLglQLzykiRbcDiGcD        cpc                 other   \n",
       "\n",
       "          utm_adcontent           utm_keyword device_category  \\\n",
       "0  vCIpmpaGBnIQhyYNkXqp  puhZPIYqKXeFPaUviSjo          mobile   \n",
       "1  xhoenQgDQsgfEPYNPwKO  IGUCNvHlhfHpROGclCit          mobile   \n",
       "2  vCIpmpaGBnIQhyYNkXqp  puhZPIYqKXeFPaUviSjo          mobile   \n",
       "3  NOBKLgtuvqYWkXQHeYWM                 other          mobile   \n",
       "4                 other                 other          mobile   \n",
       "\n",
       "         device_os device_brand    device_browser geo_country     geo_city  \\\n",
       "0          Android       Huawei            Chrome      Russia     Zlatoust   \n",
       "1          Android      Samsung  Samsung Internet      Russia       Moscow   \n",
       "2          Android       Huawei            Chrome      Russia  Krasnoyarsk   \n",
       "3  Android_imputed       Xiaomi            Chrome      Russia       Moscow   \n",
       "4  Android_imputed       Xiaomi            Chrome      Russia       Moscow   \n",
       "\n",
       "   label   pixel  x_pixel  y_pixel  log_pixel  log_x_pixel  log_y_pixel  \n",
       "0      0  259200      360      720  12.465355     5.886104     6.579251  \n",
       "1      0  328790      385      854  12.703175     5.953243     6.749931  \n",
       "2      0  259200      360      720  12.465355     5.886104     6.579251  \n",
       "3      0  308898      393      786  12.640766     5.973810     6.666957  \n",
       "4      0  308898      393      786  12.640766     5.973810     6.666957  "
      ]
     },
     "execution_count": 32,
     "metadata": {},
     "output_type": "execute_result"
    }
   ],
   "source": [
    "df = df3.copy()\n",
    "df['log_pixel'] = df['pixel'].apply(lambda x: math.log(x))\n",
    "df['pixel'] = df['pixel'].apply(lambda x: min(x, 5 * 10**6))\n",
    "df['log_x_pixel'] = df['x_pixel'].apply(lambda x: math.log(x))\n",
    "df['x_pixel'] = df['x_pixel'].apply(lambda x: min(x, 2500))\n",
    "df['log_y_pixel'] = df['y_pixel'].apply(lambda x: math.log(x))\n",
    "df['y_pixel'] = df['y_pixel'].apply(lambda x: min(x, 2000))\n",
    "df4 = df.copy()\n",
    "df4.head()"
   ]
  },
  {
   "cell_type": "markdown",
   "id": "0bfb3656",
   "metadata": {
    "hidden": true
   },
   "source": [
    "Посмотрим на корреляции с целевой переменной до и после сделанного преобразования."
   ]
  },
  {
   "cell_type": "code",
   "execution_count": 33,
   "id": "8a146310",
   "metadata": {
    "hidden": true
   },
   "outputs": [
    {
     "data": {
      "text/plain": [
       "label      1.000000\n",
       "pixel      0.004602\n",
       "x_pixel    0.006705\n",
       "y_pixel    0.009125\n",
       "dtype: float64"
      ]
     },
     "execution_count": 33,
     "metadata": {},
     "output_type": "execute_result"
    }
   ],
   "source": [
    "df3.corrwith(df['label'], numeric_only=True)"
   ]
  },
  {
   "cell_type": "code",
   "execution_count": 34,
   "id": "87345fd9",
   "metadata": {
    "hidden": true
   },
   "outputs": [
    {
     "data": {
      "text/plain": [
       "label          1.000000\n",
       "pixel          0.004974\n",
       "x_pixel        0.007045\n",
       "y_pixel        0.010376\n",
       "log_pixel      0.010880\n",
       "log_x_pixel    0.007598\n",
       "log_y_pixel    0.015901\n",
       "dtype: float64"
      ]
     },
     "execution_count": 34,
     "metadata": {},
     "output_type": "execute_result"
    }
   ],
   "source": [
    "df4.corrwith(df['label'], numeric_only=True)"
   ]
  },
  {
   "cell_type": "markdown",
   "id": "0fc18ee9",
   "metadata": {
    "hidden": true
   },
   "source": [
    "Новые фичи лучше коррелируют, особенно логарифмированные."
   ]
  },
  {
   "cell_type": "markdown",
   "id": "b7411917",
   "metadata": {
    "heading_collapsed": true,
    "hidden": true
   },
   "source": [
    "## Города"
   ]
  },
  {
   "cell_type": "markdown",
   "id": "47b20a24",
   "metadata": {
    "hidden": true
   },
   "source": [
    "Выведем количество значений в столбце `geo_city`."
   ]
  },
  {
   "cell_type": "code",
   "execution_count": 35,
   "id": "474bf226",
   "metadata": {
    "hidden": true
   },
   "outputs": [
    {
     "data": {
      "text/plain": [
       "2389"
      ]
     },
     "execution_count": 35,
     "metadata": {},
     "output_type": "execute_result"
    }
   ],
   "source": [
    "df4['geo_city'].value_counts().count()"
   ]
  },
  {
   "cell_type": "markdown",
   "id": "819ad2c5",
   "metadata": {
    "hidden": true
   },
   "source": [
    "Имеется 2389 значений. Это перегружает модель, хотя информации не очень много.\n",
    "\n",
    "Посчитаем количество вхождений каждого города с датасет.\n",
    "\n",
    "Если объединим города близкие по количеству, не трогая города с большим вхождением,\n",
    "то мы не потеряем много информации и сократим число значений."
   ]
  },
  {
   "cell_type": "code",
   "execution_count": 36,
   "id": "11384e2e",
   "metadata": {
    "hidden": true
   },
   "outputs": [],
   "source": [
    "def city_reduce(df):\n",
    "    x = float(df['gr'])\n",
    "    if x < 1000:\n",
    "        return str(int(math.log(x)))\n",
    "    else:\n",
    "        return df['geo_city']"
   ]
  },
  {
   "cell_type": "code",
   "execution_count": 37,
   "id": "6a13db12",
   "metadata": {
    "hidden": true,
    "scrolled": true
   },
   "outputs": [],
   "source": [
    "df = df4.copy()\n",
    "gr = df.groupby('geo_city')[['geo_city']].transform('count')\n",
    "df['gr'] = gr['geo_city']\n",
    "df['geo_city'] = df.apply(city_reduce, axis=1)\n",
    "df = df.drop(['gr'], axis=1)\n",
    "df5 = df.copy()"
   ]
  },
  {
   "cell_type": "code",
   "execution_count": 38,
   "id": "6abb2812",
   "metadata": {
    "hidden": true,
    "scrolled": false
   },
   "outputs": [
    {
     "data": {
      "text/plain": [
       "125"
      ]
     },
     "execution_count": 38,
     "metadata": {},
     "output_type": "execute_result"
    }
   ],
   "source": [
    "df5['geo_city'].value_counts().count()"
   ]
  },
  {
   "cell_type": "markdown",
   "id": "9ff61a5a",
   "metadata": {
    "hidden": true
   },
   "source": [
    "Теперь в колонке `geo_city` всего 125 значений, что даёт лишь 125 one-hot колонок вместо 2389."
   ]
  },
  {
   "cell_type": "markdown",
   "id": "f349fe6c",
   "metadata": {
    "heading_collapsed": true,
    "hidden": true
   },
   "source": [
    "## Трафик"
   ]
  },
  {
   "cell_type": "markdown",
   "id": "bd3c8978",
   "metadata": {
    "hidden": true
   },
   "source": [
    "Добавим ещё 2 фичи: органический и мобильный трафик."
   ]
  },
  {
   "cell_type": "code",
   "execution_count": 39,
   "id": "77a35e69",
   "metadata": {
    "hidden": true
   },
   "outputs": [],
   "source": [
    "df = df5.copy()\n",
    "# Органический трафик соответствует значениям utm_medium равным 'organic', 'referral' и 'other'.\n",
    "df['organic_traffic'] = df['utm_medium'].apply(lambda x: int(x in ['organic', 'referral', 'other']))\n",
    "# Мобильный трафик соответствует значению device_category ='mobile'.\n",
    "df['mobile_traffic'] = df['device_category'].apply(lambda x: int(x == 'mobile'))\n",
    "df6 = df.copy()"
   ]
  },
  {
   "cell_type": "markdown",
   "id": "f653f7d8",
   "metadata": {
    "heading_collapsed": true
   },
   "source": [
    "# 4. Обучение моделей"
   ]
  },
  {
   "cell_type": "markdown",
   "id": "3ed4c147",
   "metadata": {
    "heading_collapsed": true,
    "hidden": true
   },
   "source": [
    "## Нормализация и разделение"
   ]
  },
  {
   "cell_type": "code",
   "execution_count": 40,
   "id": "4f6e98b4",
   "metadata": {
    "hidden": true
   },
   "outputs": [
    {
     "data": {
      "text/plain": [
       "((1385812, 2783), (346454, 2783), (1385812,), (346454,))"
      ]
     },
     "execution_count": 40,
     "metadata": {},
     "output_type": "execute_result"
    }
   ],
   "source": [
    "#df = df4.copy()\n",
    "df = df6.copy()\n",
    "target = 'label'\n",
    "X = df.drop([target], axis=1)\n",
    "y = df[target]\n",
    "\n",
    "col_transformer = ColumnTransformer(transformers=[\n",
    "    ('scaler', StandardScaler(), make_column_selector(dtype_include=np.number)),\n",
    "    ('ecoder', OneHotEncoder(handle_unknown='ignore'), make_column_selector(dtype_include=object))\n",
    "])\n",
    "\n",
    "X = col_transformer.fit_transform(X)\n",
    "\n",
    "train_x, test_x, train_y, test_y = train_test_split(X, y, random_state=42, test_size=0.2)\n",
    "train_x.shape, test_x.shape, train_y.shape, test_y.shape"
   ]
  },
  {
   "cell_type": "markdown",
   "id": "d013f16e",
   "metadata": {
    "heading_collapsed": true,
    "hidden": true
   },
   "source": [
    "## Логистическая регрессия"
   ]
  },
  {
   "cell_type": "markdown",
   "id": "80a92b18",
   "metadata": {
    "hidden": true
   },
   "source": [
    "Простейшая модель, подходящая для данной задачи <html>&mdash;</html> логистическая регрессия."
   ]
  },
  {
   "cell_type": "code",
   "execution_count": 41,
   "id": "1dc03778",
   "metadata": {
    "hidden": true
   },
   "outputs": [],
   "source": [
    "logis = LogisticRegression(solver='newton-cg')"
   ]
  },
  {
   "cell_type": "code",
   "execution_count": 42,
   "id": "ba6374cc",
   "metadata": {
    "hidden": true,
    "scrolled": true
   },
   "outputs": [
    {
     "data": {
      "text/plain": [
       "{'C': 0.5}"
      ]
     },
     "execution_count": 42,
     "metadata": {},
     "output_type": "execute_result"
    }
   ],
   "source": [
    "param_grid = {'C': [0.2, 0.5, 1]}\n",
    "grid_search_logis = GridSearchCV(logis, param_grid, cv=5, scoring='roc_auc', refit=False)\n",
    "grid_search_logis.fit(train_x, train_y)\n",
    "grid_search_logis.best_params_"
   ]
  },
  {
   "cell_type": "code",
   "execution_count": 43,
   "id": "8519f52a",
   "metadata": {
    "hidden": true
   },
   "outputs": [
    {
     "name": "stdout",
     "output_type": "stream",
     "text": [
      "{'C': 0.2} — mean: 0.68436, std: 0.00085, mean fit time: 35 s.\n",
      "{'C': 0.5} — mean: 0.68444, std: 0.00074, mean fit time: 46 s.\n",
      "{'C': 1} — mean: 0.68419, std: 0.00067, mean fit time: 61 s.\n"
     ]
    }
   ],
   "source": [
    "cv_res = grid_search_logis.cv_results_\n",
    "for p, m, s, t in zip(cv_res['params'], cv_res['mean_test_score'], cv_res['std_test_score'], cv_res['mean_fit_time']):\n",
    "    print(p, f'\\u2014 mean: {m:.5f}, std: {s:.5f}, mean fit time: {t:.0f} s.')"
   ]
  },
  {
   "cell_type": "code",
   "execution_count": 44,
   "id": "36974175",
   "metadata": {
    "hidden": true
   },
   "outputs": [],
   "source": [
    "logis = LogisticRegression(C=0.5, solver='newton-cg')\n",
    "logis.fit(train_x, train_y);"
   ]
  },
  {
   "cell_type": "markdown",
   "id": "1af468ef",
   "metadata": {
    "hidden": true
   },
   "source": [
    "Попробуем также метод стохастического градиентного спуска."
   ]
  },
  {
   "cell_type": "code",
   "execution_count": 45,
   "id": "c35df960",
   "metadata": {
    "hidden": true
   },
   "outputs": [],
   "source": [
    "sgd = SGDClassifier(loss='log_loss', alpha=1e-05, penalty='elasticnet', l1_ratio=0.05)"
   ]
  },
  {
   "cell_type": "code",
   "execution_count": 46,
   "id": "c1345ef7",
   "metadata": {
    "hidden": true,
    "scrolled": false
   },
   "outputs": [
    {
     "data": {
      "text/plain": [
       "{'alpha': 1e-05, 'l1_ratio': 0.1}"
      ]
     },
     "execution_count": 46,
     "metadata": {},
     "output_type": "execute_result"
    }
   ],
   "source": [
    "param_grid = {'alpha': [1e-06, 1e-05, 5e-05],\n",
    "              'l1_ratio': [0.01, 0.10, 0.5]\n",
    "             }\n",
    "grid_search_sgd = GridSearchCV(sgd, param_grid, cv=5, scoring='roc_auc', refit=False)\n",
    "grid_search_sgd.fit(train_x, train_y)\n",
    "grid_search_sgd.best_params_"
   ]
  },
  {
   "cell_type": "code",
   "execution_count": 47,
   "id": "ebe4076a",
   "metadata": {
    "hidden": true
   },
   "outputs": [
    {
     "name": "stdout",
     "output_type": "stream",
     "text": [
      "{'alpha': 1e-06, 'l1_ratio': 0.01} — mean: 0.64754, std: 0.01235, mean fit time: 7 s.\n",
      "{'alpha': 1e-06, 'l1_ratio': 0.1} — mean: 0.65442, std: 0.00858, mean fit time: 7 s.\n",
      "{'alpha': 1e-06, 'l1_ratio': 0.5} — mean: 0.64801, std: 0.01853, mean fit time: 6 s.\n",
      "{'alpha': 1e-05, 'l1_ratio': 0.01} — mean: 0.67288, std: 0.00565, mean fit time: 4 s.\n",
      "{'alpha': 1e-05, 'l1_ratio': 0.1} — mean: 0.67732, std: 0.00225, mean fit time: 4 s.\n",
      "{'alpha': 1e-05, 'l1_ratio': 0.5} — mean: 0.66866, std: 0.01261, mean fit time: 3 s.\n",
      "{'alpha': 5e-05, 'l1_ratio': 0.01} — mean: 0.67496, std: 0.00355, mean fit time: 3 s.\n",
      "{'alpha': 5e-05, 'l1_ratio': 0.1} — mean: 0.67581, std: 0.00159, mean fit time: 3 s.\n",
      "{'alpha': 5e-05, 'l1_ratio': 0.5} — mean: 0.67147, std: 0.00297, mean fit time: 3 s.\n"
     ]
    }
   ],
   "source": [
    "cv_res = grid_search_sgd.cv_results_\n",
    "for p, m, s, t in zip(cv_res['params'], cv_res['mean_test_score'], cv_res['std_test_score'], cv_res['mean_fit_time']):\n",
    "    print(p, f'\\u2014 mean: {m:.5f}, std: {s:.5f}, mean fit time: {t:.0f} s.')"
   ]
  },
  {
   "cell_type": "code",
   "execution_count": 48,
   "id": "41e73e1e",
   "metadata": {
    "hidden": true
   },
   "outputs": [],
   "source": [
    "sgd = SGDClassifier(loss='log_loss', alpha=1e-05, penalty='elasticnet', l1_ratio=0.1)\n",
    "sgd.fit(train_x, train_y);"
   ]
  },
  {
   "cell_type": "markdown",
   "id": "8990fe6f",
   "metadata": {
    "hidden": true
   },
   "source": [
    "Стохастический метод работает гораздо быстрее, но он немного менее точен."
   ]
  },
  {
   "cell_type": "markdown",
   "id": "a08fde92",
   "metadata": {
    "heading_collapsed": true,
    "hidden": true
   },
   "source": [
    "## Нейронные сети"
   ]
  },
  {
   "cell_type": "code",
   "execution_count": 49,
   "id": "c04cfb1c",
   "metadata": {
    "hidden": true
   },
   "outputs": [
    {
     "data": {
      "text/plain": [
       "'0:15:54.671531'"
      ]
     },
     "execution_count": 49,
     "metadata": {},
     "output_type": "execute_result"
    }
   ],
   "source": [
    "time = datetime.datetime.now()\n",
    "mlp2 = MLPClassifier(activation='logistic', solver='adam', max_iter=500, hidden_layer_sizes=(100, 30))\n",
    "mlp2.fit(train_x, train_y)\n",
    "str(datetime.datetime.now() - time)"
   ]
  },
  {
   "cell_type": "markdown",
   "id": "2a08d4bf",
   "metadata": {
    "hidden": true
   },
   "source": [
    "Нейронные сети слишком долго обучаются на нашем датасете даже после всех упрощений.\n",
    "\n",
    "Поэтому опустим подгонку параметров и кросс-валидацию."
   ]
  },
  {
   "cell_type": "markdown",
   "id": "ca0402e1",
   "metadata": {
    "heading_collapsed": true,
    "hidden": true
   },
   "source": [
    "## Сравнение и оценка моделей"
   ]
  },
  {
   "cell_type": "code",
   "execution_count": 50,
   "id": "935a2811",
   "metadata": {
    "hidden": true
   },
   "outputs": [],
   "source": [
    "# Функция, которая вычисляет порог по выходным данным функции roc_curve\n",
    "def thr(fpr, tpr, threshold):\n",
    "    assert len(fpr) == len(tpr) == len(threshold)\n",
    "    # Пороговое значение вероятности выбирается так,\n",
    "    # чтобы разность True Positive Rate - False Positive Rate\n",
    "    # была максимальна:\n",
    "    i = np.argmax(tpr - fpr)\n",
    "    return threshold[i]"
   ]
  },
  {
   "cell_type": "code",
   "execution_count": 51,
   "id": "ccbe0118",
   "metadata": {
    "hidden": true
   },
   "outputs": [],
   "source": [
    "models = [logis, sgd, mlp2]"
   ]
  },
  {
   "cell_type": "code",
   "execution_count": 52,
   "id": "29c12f61",
   "metadata": {
    "hidden": true,
    "scrolled": false
   },
   "outputs": [
    {
     "data": {
      "image/png": "[encoded data removed]",
      "text/plain": [
       "<Figure size 1000x2000 with 3 Axes>"
      ]
     },
     "metadata": {},
     "output_type": "display_data"
    }
   ],
   "source": [
    "# Построим графики и заодно узнаем пороговые значения вероятности:\n",
    "\n",
    "fig, ax = plt.subplots(len(models), 1, figsize=(10, 2 + 6*len(models)))\n",
    "\n",
    "threshold_train = {}\n",
    "threshold_test = {}\n",
    "\n",
    "for i, m in enumerate(models):\n",
    "    proba_train = m.predict_proba(train_x)[:, 1]\n",
    "    proba_test = m.predict_proba(test_x)[:, 1]\n",
    "    \n",
    "    fpr, tpr, threshold = roc_curve(train_y, proba_train)\n",
    "    threshold_train[m] = thr(fpr, tpr, threshold)\n",
    "    roc_auc = auc(fpr, tpr)\n",
    "    ax[i].plot(fpr, tpr, color='darkblue', label=f'train (area = {roc_auc:.5f})')\n",
    "\n",
    "    fpr, tpr, threshold = roc_curve(test_y, proba_test)\n",
    "    threshold_test[m] = thr(fpr, tpr, threshold)\n",
    "    roc_auc = auc(fpr, tpr)\n",
    "    ax[i].plot(fpr, tpr, color='darkred', label=f'test (area = {roc_auc:.5f})')\n",
    "    \n",
    "    ax[i].plot(fpr_max, tpr_max, color='black', label=f'maximal overfitting (area = {roc_auc_max:.5f})')\n",
    "\n",
    "    ax[i].plot([0, 1], [0, 1], color='gray', linestyle='--')\n",
    "    ax[i].set_xlim([0.0, 1.0])\n",
    "    ax[i].set_ylim([0.0, 1.01])\n",
    "    ax[i].set_title(f'{m}')\n",
    "    ax[i].set_xlabel('False Positive Rate')\n",
    "    ax[i].set_ylabel('True Positive Rate')\n",
    "    ax[i].legend(loc=\"lower right\")\n",
    "\n",
    "fig.suptitle(f'Кривые ROC для {len(models)} моделей')\n",
    "plt.show()"
   ]
  },
  {
   "cell_type": "code",
   "execution_count": 53,
   "id": "c25e857c",
   "metadata": {
    "hidden": true,
    "scrolled": false
   },
   "outputs": [
    {
     "name": "stdout",
     "output_type": "stream",
     "text": [
      "Модель LogisticRegression(C=0.5, solver='newton-cg').\n",
      " roc_auc: train — 0.6918458, test — 0.6813585\n",
      "Модель SGDClassifier(alpha=1e-05, l1_ratio=0.1, loss='log_loss', penalty='elasticnet').\n",
      " roc_auc: train — 0.6840268, test — 0.6777548\n",
      "Модель MLPClassifier(activation='logistic', hidden_layer_sizes=(100, 30), max_iter=500,\n",
      "              random_state=42).\n",
      " roc_auc: train — 0.7065213, test — 0.6894040\n"
     ]
    }
   ],
   "source": [
    "# Выведем отдельно метрики:\n",
    "for m in models:\n",
    "    proba_train = m.predict_proba(train_x)[:, 1]\n",
    "    proba_test = m.predict_proba(test_x)[:, 1]\n",
    "    print(f'Модель {m}.\\n roc_auc: train \\u2014 {roc_auc_score(train_y, proba_train):.7f}, \\\n",
    "test \\u2014 {roc_auc_score(test_y, proba_test):.7f}')"
   ]
  },
  {
   "cell_type": "markdown",
   "id": "9d60f335",
   "metadata": {
    "hidden": true
   },
   "source": [
    "Модели не переобучены.\n",
    "\n",
    "Лучший результат показывает нейронная сеть с 2 скрытыми слоями: $AUC\\_ROC = 0.6894$ на тестовой выборке (при максимально возможном значении $AUC\\_ROC_{max} = 0.8914$)."
   ]
  },
  {
   "cell_type": "code",
   "execution_count": 54,
   "id": "97012f4d",
   "metadata": {
    "hidden": true
   },
   "outputs": [
    {
     "name": "stdout",
     "output_type": "stream",
     "text": [
      "LogisticRegression(C=0.5, solver='newton-cg')\n",
      "0.027617624826591625\n",
      "0.028640947279580223\n",
      "SGDClassifier(alpha=1e-05, l1_ratio=0.1, loss='log_loss', penalty='elasticnet')\n",
      "0.02626529972202638\n",
      "0.02605449024688761\n",
      "MLPClassifier(activation='logistic', hidden_layer_sizes=(100, 30), max_iter=500,\n",
      "              random_state=42)\n",
      "0.02662859958728451\n",
      "0.026857354786228024\n"
     ]
    }
   ],
   "source": [
    "# Пороговые значения:\n",
    "for m in models:\n",
    "    print(m, threshold_test[m], threshold_train[m], sep='\\n')"
   ]
  },
  {
   "cell_type": "markdown",
   "id": "8431e632",
   "metadata": {
    "hidden": true
   },
   "source": [
    "Пороговое значение примерно равно доле целевых меток: 0.03 = 3%.\n",
    "\n",
    "Посмотрим на confusion matrix для последней модели (mlp2)."
   ]
  },
  {
   "cell_type": "code",
   "execution_count": 55,
   "id": "72178847",
   "metadata": {
    "hidden": true
   },
   "outputs": [
    {
     "name": "stdout",
     "output_type": "stream",
     "text": [
      "[[217106 119223]\n",
      " [  3843   6282]]\n",
      "\n",
      "[[0.64551674 0.35448326]\n",
      " [0.37955556 0.62044444]]\n",
      "\n",
      "[[0.98260685 0.94994622]\n",
      " [0.01739315 0.05005378]]\n"
     ]
    }
   ],
   "source": [
    "threshold_prob = 0.03\n",
    "predict_test = (proba_test > threshold_prob).astype(int)\n",
    "print(confusion_matrix(test_y, predict_test),\n",
    "      confusion_matrix(test_y, predict_test, normalize='true'),\n",
    "      confusion_matrix(test_y, predict_test, normalize='pred'),\n",
    "      sep='\\n\\n'\n",
    ")"
   ]
  },
  {
   "cell_type": "markdown",
   "id": "70b2368d",
   "metadata": {
    "hidden": true
   },
   "source": [
    "Итого.\n",
    "\n",
    "Лучшая модель: MLPClassifier(activation='logistic', hidden_layer_sizes=(100, 30), max_iter=500)\n",
    "\n",
    "Метрика 𝐴𝑈𝐶 𝑅𝑂𝐶 для неё равна 0.6894\n",
    "\n",
    "\n",
    "Пороговое значение вероятности: 0.03 "
   ]
  },
  {
   "cell_type": "code",
   "execution_count": null,
   "id": "3b2859b2",
   "metadata": {
    "hidden": true
   },
   "outputs": [],
   "source": []
  }
 ],
 "metadata": {
  "kernelspec": {
   "display_name": "Python 3 (ipykernel)",
   "language": "python",
   "name": "python3"
  },
  "language_info": {
   "codemirror_mode": {
    "name": "ipython",
    "version": 3
   },
   "file_extension": ".py",
   "mimetype": "text/x-python",
   "name": "python",
   "nbconvert_exporter": "python",
   "pygments_lexer": "ipython3",
   "version": "3.10.6"
  }
 },
 "nbformat": 4,
 "nbformat_minor": 5
}
